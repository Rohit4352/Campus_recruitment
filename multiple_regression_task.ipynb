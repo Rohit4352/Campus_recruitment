{
  "nbformat": 4,
  "nbformat_minor": 0,
  "metadata": {
    "kernelspec": {
      "display_name": "Python 3",
      "language": "python",
      "name": "python3"
    },
    "language_info": {
      "codemirror_mode": {
        "name": "ipython",
        "version": 3
      },
      "file_extension": ".py",
      "mimetype": "text/x-python",
      "name": "python",
      "nbconvert_exporter": "python",
      "pygments_lexer": "ipython3",
      "version": "3.7.6"
    },
    "papermill": {
      "duration": 7.4752,
      "end_time": "2020-08-08T08:43:26.679737",
      "environment_variables": {},
      "exception": null,
      "input_path": "__notebook__.ipynb",
      "output_path": "__notebook__.ipynb",
      "parameters": {},
      "start_time": "2020-08-08T08:43:19.204537",
      "version": "2.1.0"
    },
    "colab": {
      "name": "multiple-regression-task.ipynb",
      "provenance": [],
      "toc_visible": true,
      "include_colab_link": true
    }
  },
  "cells": [
    {
      "cell_type": "markdown",
      "metadata": {
        "id": "view-in-github",
        "colab_type": "text"
      },
      "source": [
        "<a href=\"https://colab.research.google.com/github/Rohit4352/Campus_recruitment/blob/master/multiple_regression_task.ipynb\" target=\"_parent\"><img src=\"https://colab.research.google.com/assets/colab-badge.svg\" alt=\"Open In Colab\"/></a>"
      ]
    },
    {
      "cell_type": "markdown",
      "metadata": {
        "papermill": {
          "duration": 0.00806,
          "end_time": "2020-08-08T08:43:24.209257",
          "exception": false,
          "start_time": "2020-08-08T08:43:24.201197",
          "status": "completed"
        },
        "tags": [],
        "id": "D4QsmmE_dZ4q",
        "colab_type": "text"
      },
      "source": [
        "**Multiple Linear Regression**\n",
        "\n",
        "1) Develop an estimated multiple linear regression equation with mbap as response variable and sscp & hscp as the two predictor variables. Interpret the regression coefficients and check whether they are significant based on the summary output \n",
        "\n",
        "2) Estimate a multiple regression equation for each of the below scenarios and based on the model’s R-square comment which model is better. \n",
        "    \n",
        "    (i) Use mbap as outcome variable and sscp & degreep as the two predictor variables.\n",
        "    \n",
        "    (ii) Use mbap as outcome variable and hscp & degreep as the two predictor variables. \n",
        "\n",
        "3) Show the functional form of a multiple regression model. Build a regression model with mbap as dependent variable and sscp, hscp and degree_p as three independent variables. \n",
        "    \n",
        "    Divide the dataset in the ratio of 80:20 for train and test set (set seed as 1001) and use the train set to build the model. Show the model summary and interpret the p-values of the regression coefficients. \n",
        "    \n",
        "    Remove any insignificant variables and rebuild the model. \n",
        "    \n",
        "    Use this model for prediction on the test set and show the first few observations’ actual value of the test set in comparison to the predicted value."
      ]
    },
    {
      "cell_type": "markdown",
      "metadata": {
        "papermill": {
          "duration": 0.005961,
          "end_time": "2020-08-08T08:43:24.222268",
          "exception": false,
          "start_time": "2020-08-08T08:43:24.216307",
          "status": "completed"
        },
        "tags": [],
        "id": "u-LO1POhdZ4s",
        "colab_type": "text"
      },
      "source": [
        "# Packages"
      ]
    },
    {
      "cell_type": "code",
      "metadata": {
        "_cell_guid": "b1076dfc-b9ad-4769-8c92-a6c4dae69d19",
        "_uuid": "8f2839f25d086af736a60e9eeb907d3b93b6e0e5",
        "execution": {
          "iopub.execute_input": "2020-08-08T08:43:24.244371Z",
          "iopub.status.busy": "2020-08-08T08:43:24.243668Z",
          "iopub.status.idle": "2020-08-08T08:43:25.373898Z",
          "shell.execute_reply": "2020-08-08T08:43:25.372800Z"
        },
        "papermill": {
          "duration": 1.145606,
          "end_time": "2020-08-08T08:43:25.374116",
          "exception": false,
          "start_time": "2020-08-08T08:43:24.228510",
          "status": "completed"
        },
        "tags": [],
        "id": "qqciMcsjdZ4t",
        "colab_type": "code",
        "colab": {
          "base_uri": "https://localhost:8080/",
          "height": 70
        },
        "outputId": "401cf928-6d13-4625-fb7b-55072578be0c"
      },
      "source": [
        "# This Python 3 environment comes with many helpful analytics libraries installed\n",
        "# It is defined by the kaggle/python Docker image: https://github.com/kaggle/docker-python\n",
        "# For example, here's several helpful packages to load\n",
        "\n",
        "import numpy as np # linear algebra\n",
        "import pandas as pd # data processing, CSV file I/O (e.g. pd.read_csv)\n",
        "import seaborn as sns # graphs potting \n",
        "import matplotlib.pyplot as plt\n",
        "\n",
        "# Input data files are available in the read-only \"../input/\" directory\n",
        "# For example, running this (by clicking run or pressing Shift+Enter) will list all files under the input directory\n",
        "\n",
        "import os\n",
        "for dirname, _, filenames in os.walk('/kaggle/input'):\n",
        "    for filename in filenames:\n",
        "        print(os.path.join(dirname, filename))\n",
        "\n",
        "# You can write up to 5GB to the current directory (/kaggle/working/) that gets preserved as output when you create a version using \"Save & Run All\" \n",
        "# You can also write temporary files to /kaggle/temp/, but they won't be saved outside of the current session"
      ],
      "execution_count": null,
      "outputs": [
        {
          "output_type": "stream",
          "text": [
            "/usr/local/lib/python3.6/dist-packages/statsmodels/tools/_testing.py:19: FutureWarning: pandas.util.testing is deprecated. Use the functions in the public API at pandas.testing instead.\n",
            "  import pandas.util.testing as tm\n"
          ],
          "name": "stderr"
        }
      ]
    },
    {
      "cell_type": "markdown",
      "metadata": {
        "papermill": {
          "duration": 0.006011,
          "end_time": "2020-08-08T08:43:25.387028",
          "exception": false,
          "start_time": "2020-08-08T08:43:25.381017",
          "status": "completed"
        },
        "tags": [],
        "id": "anmGAmJ3dZ4x",
        "colab_type": "text"
      },
      "source": [
        "# Dataset"
      ]
    },
    {
      "cell_type": "code",
      "metadata": {
        "_cell_guid": "79c7e3d0-c299-4dcb-8224-4455121ee9b0",
        "_uuid": "d629ff2d2480ee46fbb7e2d37f6b5fab8052498a",
        "execution": {
          "iopub.execute_input": "2020-08-08T08:43:25.407905Z",
          "iopub.status.busy": "2020-08-08T08:43:25.406762Z",
          "iopub.status.idle": "2020-08-08T08:43:25.445469Z",
          "shell.execute_reply": "2020-08-08T08:43:25.444881Z"
        },
        "papermill": {
          "duration": 0.05123,
          "end_time": "2020-08-08T08:43:25.445619",
          "exception": false,
          "start_time": "2020-08-08T08:43:25.394389",
          "status": "completed"
        },
        "tags": [],
        "id": "Sf6NkWMzdZ4z",
        "colab_type": "code",
        "colab": {
          "base_uri": "https://localhost:8080/",
          "height": 195
        },
        "outputId": "6e633c59-67cc-4fd3-ef48-74386458344c"
      },
      "source": [
        "dataframe = pd.read_csv(\"Placement_Data_Full_Class.csv\")\n",
        "dataframe.head()"
      ],
      "execution_count": null,
      "outputs": [
        {
          "output_type": "execute_result",
          "data": {
            "text/html": [
              "<div>\n",
              "<style scoped>\n",
              "    .dataframe tbody tr th:only-of-type {\n",
              "        vertical-align: middle;\n",
              "    }\n",
              "\n",
              "    .dataframe tbody tr th {\n",
              "        vertical-align: top;\n",
              "    }\n",
              "\n",
              "    .dataframe thead th {\n",
              "        text-align: right;\n",
              "    }\n",
              "</style>\n",
              "<table border=\"1\" class=\"dataframe\">\n",
              "  <thead>\n",
              "    <tr style=\"text-align: right;\">\n",
              "      <th></th>\n",
              "      <th>sl_no</th>\n",
              "      <th>gender</th>\n",
              "      <th>ssc_p</th>\n",
              "      <th>ssc_b</th>\n",
              "      <th>hsc_p</th>\n",
              "      <th>hsc_b</th>\n",
              "      <th>hsc_s</th>\n",
              "      <th>degree_p</th>\n",
              "      <th>degree_t</th>\n",
              "      <th>workex</th>\n",
              "      <th>etest_p</th>\n",
              "      <th>specialisation</th>\n",
              "      <th>mba_p</th>\n",
              "      <th>status</th>\n",
              "      <th>salary</th>\n",
              "    </tr>\n",
              "  </thead>\n",
              "  <tbody>\n",
              "    <tr>\n",
              "      <th>0</th>\n",
              "      <td>1</td>\n",
              "      <td>M</td>\n",
              "      <td>67.00</td>\n",
              "      <td>Others</td>\n",
              "      <td>91.00</td>\n",
              "      <td>Others</td>\n",
              "      <td>Commerce</td>\n",
              "      <td>58.00</td>\n",
              "      <td>Sci&amp;Tech</td>\n",
              "      <td>No</td>\n",
              "      <td>55.0</td>\n",
              "      <td>Mkt&amp;HR</td>\n",
              "      <td>58.80</td>\n",
              "      <td>Placed</td>\n",
              "      <td>270000.0</td>\n",
              "    </tr>\n",
              "    <tr>\n",
              "      <th>1</th>\n",
              "      <td>2</td>\n",
              "      <td>M</td>\n",
              "      <td>79.33</td>\n",
              "      <td>Central</td>\n",
              "      <td>78.33</td>\n",
              "      <td>Others</td>\n",
              "      <td>Science</td>\n",
              "      <td>77.48</td>\n",
              "      <td>Sci&amp;Tech</td>\n",
              "      <td>Yes</td>\n",
              "      <td>86.5</td>\n",
              "      <td>Mkt&amp;Fin</td>\n",
              "      <td>66.28</td>\n",
              "      <td>Placed</td>\n",
              "      <td>200000.0</td>\n",
              "    </tr>\n",
              "    <tr>\n",
              "      <th>2</th>\n",
              "      <td>3</td>\n",
              "      <td>M</td>\n",
              "      <td>65.00</td>\n",
              "      <td>Central</td>\n",
              "      <td>68.00</td>\n",
              "      <td>Central</td>\n",
              "      <td>Arts</td>\n",
              "      <td>64.00</td>\n",
              "      <td>Comm&amp;Mgmt</td>\n",
              "      <td>No</td>\n",
              "      <td>75.0</td>\n",
              "      <td>Mkt&amp;Fin</td>\n",
              "      <td>57.80</td>\n",
              "      <td>Placed</td>\n",
              "      <td>250000.0</td>\n",
              "    </tr>\n",
              "    <tr>\n",
              "      <th>3</th>\n",
              "      <td>4</td>\n",
              "      <td>M</td>\n",
              "      <td>56.00</td>\n",
              "      <td>Central</td>\n",
              "      <td>52.00</td>\n",
              "      <td>Central</td>\n",
              "      <td>Science</td>\n",
              "      <td>52.00</td>\n",
              "      <td>Sci&amp;Tech</td>\n",
              "      <td>No</td>\n",
              "      <td>66.0</td>\n",
              "      <td>Mkt&amp;HR</td>\n",
              "      <td>59.43</td>\n",
              "      <td>Not Placed</td>\n",
              "      <td>NaN</td>\n",
              "    </tr>\n",
              "    <tr>\n",
              "      <th>4</th>\n",
              "      <td>5</td>\n",
              "      <td>M</td>\n",
              "      <td>85.80</td>\n",
              "      <td>Central</td>\n",
              "      <td>73.60</td>\n",
              "      <td>Central</td>\n",
              "      <td>Commerce</td>\n",
              "      <td>73.30</td>\n",
              "      <td>Comm&amp;Mgmt</td>\n",
              "      <td>No</td>\n",
              "      <td>96.8</td>\n",
              "      <td>Mkt&amp;Fin</td>\n",
              "      <td>55.50</td>\n",
              "      <td>Placed</td>\n",
              "      <td>425000.0</td>\n",
              "    </tr>\n",
              "  </tbody>\n",
              "</table>\n",
              "</div>"
            ],
            "text/plain": [
              "   sl_no gender  ssc_p    ssc_b  ...  specialisation  mba_p      status    salary\n",
              "0      1      M  67.00   Others  ...          Mkt&HR  58.80      Placed  270000.0\n",
              "1      2      M  79.33  Central  ...         Mkt&Fin  66.28      Placed  200000.0\n",
              "2      3      M  65.00  Central  ...         Mkt&Fin  57.80      Placed  250000.0\n",
              "3      4      M  56.00  Central  ...          Mkt&HR  59.43  Not Placed       NaN\n",
              "4      5      M  85.80  Central  ...         Mkt&Fin  55.50      Placed  425000.0\n",
              "\n",
              "[5 rows x 15 columns]"
            ]
          },
          "metadata": {
            "tags": []
          },
          "execution_count": 2
        }
      ]
    },
    {
      "cell_type": "code",
      "metadata": {
        "execution": {
          "iopub.execute_input": "2020-08-08T08:43:25.466005Z",
          "iopub.status.busy": "2020-08-08T08:43:25.465098Z",
          "iopub.status.idle": "2020-08-08T08:43:25.469936Z",
          "shell.execute_reply": "2020-08-08T08:43:25.469138Z"
        },
        "papermill": {
          "duration": 0.017536,
          "end_time": "2020-08-08T08:43:25.470098",
          "exception": false,
          "start_time": "2020-08-08T08:43:25.452562",
          "status": "completed"
        },
        "tags": [],
        "id": "M1wNsEJqdZ42",
        "colab_type": "code",
        "colab": {}
      },
      "source": [
        "data_reg = dataframe.copy()\n",
        "data_class = dataframe.copy()"
      ],
      "execution_count": null,
      "outputs": []
    },
    {
      "cell_type": "markdown",
      "metadata": {
        "papermill": {
          "duration": 0.00713,
          "end_time": "2020-08-08T08:43:25.484241",
          "exception": false,
          "start_time": "2020-08-08T08:43:25.477111",
          "status": "completed"
        },
        "tags": [],
        "id": "wMSMVbcUdZ46",
        "colab_type": "text"
      },
      "source": [
        "# Visualization"
      ]
    },
    {
      "cell_type": "code",
      "metadata": {
        "execution": {
          "iopub.execute_input": "2020-08-08T08:43:25.509158Z",
          "iopub.status.busy": "2020-08-08T08:43:25.508363Z",
          "iopub.status.idle": "2020-08-08T08:43:25.772007Z",
          "shell.execute_reply": "2020-08-08T08:43:25.771355Z"
        },
        "papermill": {
          "duration": 0.280823,
          "end_time": "2020-08-08T08:43:25.772139",
          "exception": false,
          "start_time": "2020-08-08T08:43:25.491316",
          "status": "completed"
        },
        "tags": [],
        "id": "MYTt9zS2dZ46",
        "colab_type": "code",
        "colab": {
          "base_uri": "https://localhost:8080/",
          "height": 279
        },
        "outputId": "5643a48a-b3af-4922-e4dc-a6359658c6b6"
      },
      "source": [
        "#This plot shows marks distribution in mba\n",
        "sns.kdeplot(dataframe.mba_p[ dataframe.gender==\"M\"])\n",
        "sns.kdeplot(dataframe.mba_p[ dataframe.gender==\"F\"])\n",
        "plt.legend([\"Male\", \"Female\"])\n",
        "plt.xlabel(\"mba percentage\")\n",
        "plt.show()"
      ],
      "execution_count": null,
      "outputs": [
        {
          "output_type": "display_data",
          "data": {
            "image/png": "[encoded data removed]",
            "text/plain": [
              "<Figure size 432x288 with 1 Axes>"
            ]
          },
          "metadata": {
            "tags": [],
            "needs_background": "light"
          }
        }
      ]
    },
    {
      "cell_type": "markdown",
      "metadata": {
        "papermill": {
          "duration": 0.006651,
          "end_time": "2020-08-08T08:43:25.787703",
          "exception": false,
          "start_time": "2020-08-08T08:43:25.781052",
          "status": "completed"
        },
        "tags": [],
        "id": "VgravtgedZ4_",
        "colab_type": "text"
      },
      "source": [
        "# splitting the data"
      ]
    },
    {
      "cell_type": "code",
      "metadata": {
        "execution": {
          "iopub.execute_input": "2020-08-08T08:43:25.812129Z",
          "iopub.status.busy": "2020-08-08T08:43:25.811323Z",
          "iopub.status.idle": "2020-08-08T08:43:25.815090Z",
          "shell.execute_reply": "2020-08-08T08:43:25.814343Z"
        },
        "papermill": {
          "duration": 0.020896,
          "end_time": "2020-08-08T08:43:25.815222",
          "exception": false,
          "start_time": "2020-08-08T08:43:25.794326",
          "status": "completed"
        },
        "tags": [],
        "id": "4yYBWc14dZ5A",
        "colab_type": "code",
        "colab": {}
      },
      "source": [
        "# Seperating independent and dependent variables\n",
        "#dependent variables ssc_p, hsc_p\n",
        "X = data_class.iloc[:,[2,4]].values\n",
        "y = data_class.iloc[:,-3].values.reshape(-1,1)"
      ],
      "execution_count": null,
      "outputs": []
    },
    {
      "cell_type": "code",
      "metadata": {
        "execution": {
          "iopub.execute_input": "2020-08-08T08:43:25.835614Z",
          "iopub.status.busy": "2020-08-08T08:43:25.834803Z",
          "iopub.status.idle": "2020-08-08T08:43:25.970932Z",
          "shell.execute_reply": "2020-08-08T08:43:25.970060Z"
        },
        "papermill": {
          "duration": 0.14872,
          "end_time": "2020-08-08T08:43:25.971101",
          "exception": false,
          "start_time": "2020-08-08T08:43:25.822381",
          "status": "completed"
        },
        "tags": [],
        "id": "YFQm2j1EdZ5E",
        "colab_type": "code",
        "colab": {}
      },
      "source": [
        "#splitting into training and test set\n",
        "from sklearn.model_selection import train_test_split\n",
        "X_train, X_test, y_train, y_test = train_test_split( X, y, test_size=0.2, random_state=0)"
      ],
      "execution_count": null,
      "outputs": []
    },
    {
      "cell_type": "markdown",
      "metadata": {
        "papermill": {
          "duration": 0.007948,
          "end_time": "2020-08-08T08:43:25.987767",
          "exception": false,
          "start_time": "2020-08-08T08:43:25.979819",
          "status": "completed"
        },
        "tags": [],
        "id": "Z3Z71bPjdZ5H",
        "colab_type": "text"
      },
      "source": [
        "# Training regression model"
      ]
    },
    {
      "cell_type": "markdown",
      "metadata": {
        "papermill": {
          "duration": 0.006808,
          "end_time": "2020-08-08T08:43:26.002501",
          "exception": false,
          "start_time": "2020-08-08T08:43:25.995693",
          "status": "completed"
        },
        "tags": [],
        "id": "2tMCF9AMdZ5I",
        "colab_type": "text"
      },
      "source": [
        "1. **Develop an estimated multiple linear regression equation with mbap as response variable and sscp & hscp as the two predictor variables. Interpret the regression coefficients and check whether they are significant based on the summary output**"
      ]
    },
    {
      "cell_type": "code",
      "metadata": {
        "execution": {
          "iopub.execute_input": "2020-08-08T08:43:26.024928Z",
          "iopub.status.busy": "2020-08-08T08:43:26.023851Z",
          "iopub.status.idle": "2020-08-08T08:43:26.160237Z",
          "shell.execute_reply": "2020-08-08T08:43:26.159605Z"
        },
        "papermill": {
          "duration": 0.150457,
          "end_time": "2020-08-08T08:43:26.160382",
          "exception": false,
          "start_time": "2020-08-08T08:43:26.009925",
          "status": "completed"
        },
        "tags": [],
        "id": "UFT70CkCdZ5J",
        "colab_type": "code",
        "colab": {}
      },
      "source": [
        "#Multiple linear regression\n",
        "from sklearn.linear_model import LinearRegression\n",
        "regressor = LinearRegression()\n",
        "regressor.fit(X_train, y_train)\n",
        "y_pred_m = regressor.predict(X_test)"
      ],
      "execution_count": null,
      "outputs": []
    },
    {
      "cell_type": "code",
      "metadata": {
        "execution": {
          "iopub.execute_input": "2020-08-08T08:43:26.182141Z",
          "iopub.status.busy": "2020-08-08T08:43:26.181284Z",
          "iopub.status.idle": "2020-08-08T08:43:26.184868Z",
          "shell.execute_reply": "2020-08-08T08:43:26.184126Z"
        },
        "papermill": {
          "duration": 0.017279,
          "end_time": "2020-08-08T08:43:26.185021",
          "exception": false,
          "start_time": "2020-08-08T08:43:26.167742",
          "status": "completed"
        },
        "tags": [],
        "id": "aBR8e8jcdZ5L",
        "colab_type": "code",
        "colab": {}
      },
      "source": [
        "np.set_printoptions(precision=2)\n",
        "#print(np.concatenate((y_pred_m.reshape(len(y_pred_m),1), y_test.reshape(len(y_test),1)),1)) "
      ],
      "execution_count": null,
      "outputs": []
    },
    {
      "cell_type": "code",
      "metadata": {
        "execution": {
          "iopub.execute_input": "2020-08-08T08:43:26.209102Z",
          "iopub.status.busy": "2020-08-08T08:43:26.208217Z",
          "iopub.status.idle": "2020-08-08T08:43:26.213002Z",
          "shell.execute_reply": "2020-08-08T08:43:26.213655Z"
        },
        "papermill": {
          "duration": 0.019371,
          "end_time": "2020-08-08T08:43:26.213855",
          "exception": false,
          "start_time": "2020-08-08T08:43:26.194484",
          "status": "completed"
        },
        "tags": [],
        "id": "tFRFVzGYdZ5N",
        "colab_type": "code",
        "colab": {
          "base_uri": "https://localhost:8080/",
          "height": 34
        },
        "outputId": "cdffb39a-6109-459b-b100-c134e8856f9c"
      },
      "source": [
        "from sklearn.metrics import r2_score, classification_report\n",
        "print(\"R2 score:\" + str(r2_score(y_test, y_pred_m)))"
      ],
      "execution_count": null,
      "outputs": [
        {
          "output_type": "stream",
          "text": [
            "R2 score:0.1749591688855493\n"
          ],
          "name": "stdout"
        }
      ]
    },
    {
      "cell_type": "markdown",
      "metadata": {
        "papermill": {
          "duration": 0.00815,
          "end_time": "2020-08-08T08:43:26.231914",
          "exception": false,
          "start_time": "2020-08-08T08:43:26.223764",
          "status": "completed"
        },
        "tags": [],
        "id": "J17BCCWldZ5P",
        "colab_type": "text"
      },
      "source": [
        "## Getting the final regression equation with the values of the coefficients\n",
        "\n",
        "\n"
      ]
    },
    {
      "cell_type": "code",
      "metadata": {
        "execution": {
          "iopub.execute_input": "2020-08-08T08:43:26.253992Z",
          "iopub.status.busy": "2020-08-08T08:43:26.252892Z",
          "iopub.status.idle": "2020-08-08T08:43:26.256326Z",
          "shell.execute_reply": "2020-08-08T08:43:26.257237Z"
        },
        "papermill": {
          "duration": 0.018417,
          "end_time": "2020-08-08T08:43:26.257540",
          "exception": false,
          "start_time": "2020-08-08T08:43:26.239123",
          "status": "completed"
        },
        "tags": [],
        "id": "8aPD_QlbdZ5Q",
        "colab_type": "code",
        "colab": {
          "base_uri": "https://localhost:8080/",
          "height": 67
        },
        "outputId": "fce647b5-4ce6-480d-bf6a-858b8347b7da"
      },
      "source": [
        "print(\"regression coeff:\" + str(regressor.coef_))\n",
        "print(\"regression intercept:\" + str(regressor.intercept_))\n",
        "print(\"mba_p = \" + str(regressor.coef_[0][0]) + \" x ssc_p + \" + str(regressor.coef_[0][1]) + \" hsc_p + \" + str(regressor.intercept_[0]))"
      ],
      "execution_count": null,
      "outputs": [
        {
          "output_type": "stream",
          "text": [
            "regression coeff:[[0.14 0.13]]\n",
            "regression intercept:[44.05]\n",
            "mba_p = 0.13869167060644713 x ssc_p + 0.13315394584239654 hsc_p + 44.04616422260859\n"
          ],
          "name": "stdout"
        }
      ]
    },
    {
      "cell_type": "markdown",
      "metadata": {
        "papermill": {
          "duration": 0.008649,
          "end_time": "2020-08-08T08:43:26.274441",
          "exception": false,
          "start_time": "2020-08-08T08:43:26.265792",
          "status": "completed"
        },
        "tags": [],
        "id": "inC1aZKndZ5S",
        "colab_type": "text"
      },
      "source": [
        "Therefore, the equation of our multiple linear regression model is:\n",
        "\n",
        "$$\\textrm{mba_p} = 0.14 \\times \\textrm{ssc_p} + 0.13 \\times \\textrm{hsc_p} + 44.05$$\n",
        "\n",
        "**Important Note:** To get these coefficients we called the \"coef_\" and \"intercept_\" attributes from our regressor object. Attributes in Python are different than methods and usually return a simple value or an array of values.\n"
      ]
    },
    {
      "cell_type": "markdown",
      "metadata": {
        "papermill": {
          "duration": 0.007473,
          "end_time": "2020-08-08T08:43:26.289543",
          "exception": false,
          "start_time": "2020-08-08T08:43:26.282070",
          "status": "completed"
        },
        "tags": [],
        "id": "xfR6iHTKdZ5T",
        "colab_type": "text"
      },
      "source": [
        "2. **Estimate a multiple regression equation for each of the below scenarios and based on the model’s R-square comment which model is better.** \n",
        "    \n",
        "    (i) Use mbap as outcome variable and sscp & degreep as the two predictor variables.    "
      ]
    },
    {
      "cell_type": "code",
      "metadata": {
        "execution": {
          "iopub.execute_input": "2020-08-08T08:43:26.316624Z",
          "iopub.status.busy": "2020-08-08T08:43:26.315712Z",
          "iopub.status.idle": "2020-08-08T08:43:26.323627Z",
          "shell.execute_reply": "2020-08-08T08:43:26.322922Z"
        },
        "papermill": {
          "duration": 0.026729,
          "end_time": "2020-08-08T08:43:26.323779",
          "exception": false,
          "start_time": "2020-08-08T08:43:26.297050",
          "status": "completed"
        },
        "tags": [],
        "id": "Ju18mWfSdZ5T",
        "colab_type": "code",
        "colab": {
          "base_uri": "https://localhost:8080/",
          "height": 84
        },
        "outputId": "ab981c3b-9397-4791-ff1d-59d0df3ca025"
      },
      "source": [
        "# Seperating independent and dependent variables\n",
        "#dependent variables ssc_p, degree_p\n",
        "X = data_class.iloc[:,[2,7]].values\n",
        "y = data_class.iloc[:,-3].values.reshape(-1,1)\n",
        "\n",
        "#splitting into training and test set\n",
        "from sklearn.model_selection import train_test_split\n",
        "X_train, X_test, y_train, y_test = train_test_split( X, y, test_size=0.2, random_state=0)\n",
        "\n",
        "#Multiple linear regression\n",
        "from sklearn.linear_model import LinearRegression\n",
        "regressor = LinearRegression()\n",
        "regressor.fit(X_train, y_train)\n",
        "y_pred_m = regressor.predict(X_test)\n",
        "\n",
        "np.set_printoptions(precision=2)\n",
        "#print(np.concatenate((y_pred_m.reshape(len(y_pred_m),1), y_test.reshape(len(y_test),1)),1)) \n",
        "\n",
        "from sklearn.metrics import r2_score, classification_report\n",
        "print(\"R2 score:\" + str(r2_score(y_test, y_pred_m)))\n",
        "print(\"regression coeff:\" + str(regressor.coef_))\n",
        "print(\"regression intercept:\" + str(regressor.intercept_))\n",
        "print(\"mba_p = 0.12 x ssc_p + 0.22 x degree_p + 39.66\")"
      ],
      "execution_count": null,
      "outputs": [
        {
          "output_type": "stream",
          "text": [
            "R2 score:0.2670526417462228\n",
            "regression coeff:[[0.12 0.22]]\n",
            "regression intercept:[39.66]\n",
            "mba_p = 0.12 x ssc_p + 0.22 x degree_p + 39.66\n"
          ],
          "name": "stdout"
        }
      ]
    },
    {
      "cell_type": "markdown",
      "metadata": {
        "papermill": {
          "duration": 0.008484,
          "end_time": "2020-08-08T08:43:26.342289",
          "exception": false,
          "start_time": "2020-08-08T08:43:26.333805",
          "status": "completed"
        },
        "tags": [],
        "id": "H45bk0-BdZ5Y",
        "colab_type": "text"
      },
      "source": [
        "2. **Estimate a multiple regression equation for each of the below scenarios and based on the model’s R-square comment which model is better.** \n",
        "    \n",
        "    (ii) Use mbap as outcome variable and hscp & degreep as the two predictor variables."
      ]
    },
    {
      "cell_type": "code",
      "metadata": {
        "execution": {
          "iopub.execute_input": "2020-08-08T08:43:26.375768Z",
          "iopub.status.busy": "2020-08-08T08:43:26.372412Z",
          "iopub.status.idle": "2020-08-08T08:43:26.380969Z",
          "shell.execute_reply": "2020-08-08T08:43:26.380397Z"
        },
        "papermill": {
          "duration": 0.030883,
          "end_time": "2020-08-08T08:43:26.381117",
          "exception": false,
          "start_time": "2020-08-08T08:43:26.350234",
          "status": "completed"
        },
        "tags": [],
        "id": "XmzSq3vpdZ5Y",
        "colab_type": "code",
        "colab": {
          "base_uri": "https://localhost:8080/",
          "height": 84
        },
        "outputId": "8c71dd1b-27a2-4168-fd32-dd81f9158a4d"
      },
      "source": [
        "# Seperating independent and dependent variables\n",
        "X = data_class.iloc[:,[4,7]].values\n",
        "y = data_class.iloc[:,-3].values.reshape(-1,1)\n",
        "\n",
        "#splitting into training and test set\n",
        "from sklearn.model_selection import train_test_split\n",
        "X_train, X_test, y_train, y_test = train_test_split( X, y, test_size=0.2, random_state=0)\n",
        "\n",
        "#Multiple linear regression\n",
        "from sklearn.linear_model import LinearRegression\n",
        "regressor = LinearRegression()\n",
        "regressor.fit(X_train, y_train)\n",
        "y_pred_m = regressor.predict(X_test)\n",
        "\n",
        "np.set_printoptions(precision=2)\n",
        "#print(np.concatenate((y_pred_m.reshape(len(y_pred_m),1), y_test.reshape(len(y_test),1)),1)) \n",
        "\n",
        "from sklearn.metrics import r2_score, classification_report\n",
        "print(\"R2 score:\" + str(r2_score(y_test, y_pred_m)))\n",
        "print(\"regression coeff:\" + str(regressor.coef_))\n",
        "print(\"regression intercept:\" + str(regressor.intercept_))\n",
        "print(\"mba_p = \" + str(regressor.coef_[0][0]) + \" x hsc_p + \" + str(regressor.coef_[0][1]) + \" x degree_p + \" + str(regressor.intercept_[0]))"
      ],
      "execution_count": null,
      "outputs": [
        {
          "output_type": "stream",
          "text": [
            "R2 score:0.17616396722600414\n",
            "regression coeff:[[0.13 0.23]]\n",
            "regression intercept:[38.56]\n",
            "mba_p = 0.13171318061863166 x hsc_p + 0.22510364524995355 x degree_p + 38.56332437694495\n"
          ],
          "name": "stdout"
        }
      ]
    },
    {
      "cell_type": "markdown",
      "metadata": {
        "papermill": {
          "duration": 0.007263,
          "end_time": "2020-08-08T08:43:26.396247",
          "exception": false,
          "start_time": "2020-08-08T08:43:26.388984",
          "status": "completed"
        },
        "tags": [],
        "id": "B03QS7A_dZ5a",
        "colab_type": "text"
      },
      "source": [
        "# > **Model with mbap as outcome variable and sscp & degreep as the two predictor variables is better since the r2_score is 26.7**"
      ]
    },
    {
      "cell_type": "markdown",
      "metadata": {
        "papermill": {
          "duration": 0.007274,
          "end_time": "2020-08-08T08:43:26.411362",
          "exception": false,
          "start_time": "2020-08-08T08:43:26.404088",
          "status": "completed"
        },
        "tags": [],
        "id": "65b9DPhpdZ5b",
        "colab_type": "text"
      },
      "source": [
        "3) **Show the functional form of a multiple regression model. Build a regression model with mbap as dependent variable and sscp, hscp and degree_p as three independent variables.** \n",
        "    \n",
        "    Divide the dataset in the ratio of 80:20 for train and test set (set seed as 1001) and use the train set to build the model. Show the model summary and interpret the p-values of the regression coefficients. \n",
        "    \n",
        "    Remove any insignificant variables and rebuild the model. \n",
        "    \n",
        "    Use this model for prediction on the test set and show the first few observations’ actual value of the test set in comparison to the predicted value."
      ]
    },
    {
      "cell_type": "code",
      "metadata": {
        "execution": {
          "iopub.execute_input": "2020-08-08T08:43:26.441097Z",
          "iopub.status.busy": "2020-08-08T08:43:26.435720Z",
          "iopub.status.idle": "2020-08-08T08:43:26.450263Z",
          "shell.execute_reply": "2020-08-08T08:43:26.449596Z"
        },
        "papermill": {
          "duration": 0.031252,
          "end_time": "2020-08-08T08:43:26.450394",
          "exception": false,
          "start_time": "2020-08-08T08:43:26.419142",
          "status": "completed"
        },
        "tags": [],
        "id": "1vUjJwHYdZ5b",
        "colab_type": "code",
        "colab": {
          "base_uri": "https://localhost:8080/",
          "height": 34
        },
        "outputId": "9dc8ae45-39f0-4fab-8543-67a7128e5b4c"
      },
      "source": [
        "# Seperating independent and dependent variables\n",
        "X = data_class.iloc[:,[2,4,7]].values\n",
        "y = data_class.iloc[:,-3].values.reshape(-1,1)\n",
        "\n",
        "#splitting into training and test set\n",
        "from sklearn.model_selection import train_test_split\n",
        "X_train, X_test, y_train, y_test = train_test_split( X, y, test_size=0.2, random_state=1001)\n",
        "\n",
        "#Multiple linear regression\n",
        "from sklearn.linear_model import LinearRegression\n",
        "regressor = LinearRegression()\n",
        "regressor.fit(X_train, y_train)"
      ],
      "execution_count": null,
      "outputs": [
        {
          "output_type": "execute_result",
          "data": {
            "text/plain": [
              "LinearRegression(copy_X=True, fit_intercept=True, n_jobs=None, normalize=False)"
            ]
          },
          "metadata": {
            "tags": []
          },
          "execution_count": 13
        }
      ]
    },
    {
      "cell_type": "code",
      "metadata": {
        "execution": {
          "iopub.execute_input": "2020-08-08T08:43:26.473594Z",
          "iopub.status.busy": "2020-08-08T08:43:26.472833Z",
          "iopub.status.idle": "2020-08-08T08:43:26.476553Z",
          "shell.execute_reply": "2020-08-08T08:43:26.475853Z"
        },
        "papermill": {
          "duration": 0.017282,
          "end_time": "2020-08-08T08:43:26.476685",
          "exception": false,
          "start_time": "2020-08-08T08:43:26.459403",
          "status": "completed"
        },
        "tags": [],
        "id": "tzdlre_EdZ5f",
        "colab_type": "code",
        "colab": {}
      },
      "source": [
        "#predict the values\n",
        "y_pred_m = regressor.predict(X_test)"
      ],
      "execution_count": null,
      "outputs": []
    },
    {
      "cell_type": "code",
      "metadata": {
        "execution": {
          "iopub.execute_input": "2020-08-08T08:43:26.501331Z",
          "iopub.status.busy": "2020-08-08T08:43:26.500424Z",
          "iopub.status.idle": "2020-08-08T08:43:26.505246Z",
          "shell.execute_reply": "2020-08-08T08:43:26.505898Z"
        },
        "papermill": {
          "duration": 0.02149,
          "end_time": "2020-08-08T08:43:26.506090",
          "exception": false,
          "start_time": "2020-08-08T08:43:26.484600",
          "status": "completed"
        },
        "tags": [],
        "id": "wkE1tIzKdZ5i",
        "colab_type": "code",
        "colab": {
          "base_uri": "https://localhost:8080/",
          "height": 84
        },
        "outputId": "b1d8af99-6c25-4e26-81e0-a0dbb7dfb8ab"
      },
      "source": [
        "from sklearn.metrics import r2_score, classification_report\n",
        "\n",
        "#R2 score\n",
        "print(\"R2 score:\" + str(r2_score(y_test, y_pred_m)))\n",
        "\n",
        "#model p values\n",
        "print(\"regression coeff:\" + str(regressor.coef_))\n",
        "print(\"regression intercept:\" + str(regressor.intercept_))\n",
        "print(\"mba_p = \" + str(regressor.coef_[0][0]) + \" x hsc_p + \" + str(regressor.coef_[0][1]) + \" x degree_p + \" + str(regressor.intercept_[0]))"
      ],
      "execution_count": null,
      "outputs": [
        {
          "output_type": "stream",
          "text": [
            "R2 score:0.09169950978709318\n",
            "regression coeff:[[0.14 0.1  0.13]]\n",
            "regression intercept:[38.04]\n",
            "mba_p = 0.1399960483664397 x hsc_p + 0.09707612077432573 x degree_p + 38.03640753430685\n"
          ],
          "name": "stdout"
        }
      ]
    },
    {
      "cell_type": "code",
      "metadata": {
        "execution": {
          "iopub.execute_input": "2020-08-08T08:43:26.541441Z",
          "iopub.status.busy": "2020-08-08T08:43:26.540373Z",
          "iopub.status.idle": "2020-08-08T08:43:26.546343Z",
          "shell.execute_reply": "2020-08-08T08:43:26.545781Z"
        },
        "papermill": {
          "duration": 0.030491,
          "end_time": "2020-08-08T08:43:26.546494",
          "exception": false,
          "start_time": "2020-08-08T08:43:26.516003",
          "status": "completed"
        },
        "tags": [],
        "id": "PrIoEQy9dZ5m",
        "colab_type": "code",
        "colab": {
          "base_uri": "https://localhost:8080/",
          "height": 284
        },
        "outputId": "0e958727-a783-4930-c755-ee3513fe5e5d"
      },
      "source": [
        "np.set_printoptions(precision=2)\n",
        "dff = pd.DataFrame(list(zip(y_test, y_pred_m.round(2))),columns=(\"Target\",\"Predicted\"))\n",
        "dff.head(8)"
      ],
      "execution_count": null,
      "outputs": [
        {
          "output_type": "execute_result",
          "data": {
            "text/html": [
              "<div>\n",
              "<style scoped>\n",
              "    .dataframe tbody tr th:only-of-type {\n",
              "        vertical-align: middle;\n",
              "    }\n",
              "\n",
              "    .dataframe tbody tr th {\n",
              "        vertical-align: top;\n",
              "    }\n",
              "\n",
              "    .dataframe thead th {\n",
              "        text-align: right;\n",
              "    }\n",
              "</style>\n",
              "<table border=\"1\" class=\"dataframe\">\n",
              "  <thead>\n",
              "    <tr style=\"text-align: right;\">\n",
              "      <th></th>\n",
              "      <th>Target</th>\n",
              "      <th>Predicted</th>\n",
              "    </tr>\n",
              "  </thead>\n",
              "  <tbody>\n",
              "    <tr>\n",
              "      <th>0</th>\n",
              "      <td>[62.54]</td>\n",
              "      <td>[61.76]</td>\n",
              "    </tr>\n",
              "    <tr>\n",
              "      <th>1</th>\n",
              "      <td>[70.81]</td>\n",
              "      <td>[67.88]</td>\n",
              "    </tr>\n",
              "    <tr>\n",
              "      <th>2</th>\n",
              "      <td>[72.14]</td>\n",
              "      <td>[63.43]</td>\n",
              "    </tr>\n",
              "    <tr>\n",
              "      <th>3</th>\n",
              "      <td>[69.7]</td>\n",
              "      <td>[66.37]</td>\n",
              "    </tr>\n",
              "    <tr>\n",
              "      <th>4</th>\n",
              "      <td>[65.48]</td>\n",
              "      <td>[58.44]</td>\n",
              "    </tr>\n",
              "    <tr>\n",
              "      <th>5</th>\n",
              "      <td>[61.31]</td>\n",
              "      <td>[63.52]</td>\n",
              "    </tr>\n",
              "    <tr>\n",
              "      <th>6</th>\n",
              "      <td>[52.64]</td>\n",
              "      <td>[61.12]</td>\n",
              "    </tr>\n",
              "    <tr>\n",
              "      <th>7</th>\n",
              "      <td>[57.65]</td>\n",
              "      <td>[63.16]</td>\n",
              "    </tr>\n",
              "  </tbody>\n",
              "</table>\n",
              "</div>"
            ],
            "text/plain": [
              "    Target Predicted\n",
              "0  [62.54]   [61.76]\n",
              "1  [70.81]   [67.88]\n",
              "2  [72.14]   [63.43]\n",
              "3   [69.7]   [66.37]\n",
              "4  [65.48]   [58.44]\n",
              "5  [61.31]   [63.52]\n",
              "6  [52.64]   [61.12]\n",
              "7  [57.65]   [63.16]"
            ]
          },
          "metadata": {
            "tags": []
          },
          "execution_count": 16
        }
      ]
    },
    {
      "cell_type": "markdown",
      "metadata": {
        "id": "8ybNweFh6lmd",
        "colab_type": "text"
      },
      "source": [
        "$$\\textrm{If you like the work please upvote :-) }$$\n",
        "**$$\\textrm{Comments are Welcome}$$**"
      ]
    },
    {
      "cell_type": "code",
      "metadata": {
        "id": "z8B6j66B6mwz",
        "colab_type": "code",
        "colab": {}
      },
      "source": [
        ""
      ],
      "execution_count": null,
      "outputs": []
    }
  ]
}