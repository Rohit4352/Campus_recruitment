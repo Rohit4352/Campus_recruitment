{
  "nbformat": 4,
  "nbformat_minor": 0,
  "metadata": {
    "kernelspec": {
      "display_name": "Python 3",
      "language": "python",
      "name": "python3"
    },
    "language_info": {
      "codemirror_mode": {
        "name": "ipython",
        "version": 3
      },
      "file_extension": ".py",
      "mimetype": "text/x-python",
      "name": "python",
      "nbconvert_exporter": "python",
      "pygments_lexer": "ipython3",
      "version": "3.7.6"
    },
    "papermill": {
      "duration": 69.738183,
      "end_time": "2020-08-08T12:30:46.891145",
      "environment_variables": {},
      "exception": null,
      "input_path": "__notebook__.ipynb",
      "output_path": "__notebook__.ipynb",
      "parameters": {},
      "start_time": "2020-08-08T12:29:37.152962",
      "version": "2.1.0"
    },
    "colab": {
      "name": "campus-recruit-eda-visualize-regressor-classifier.ipynb",
      "provenance": [],
      "toc_visible": true,
      "include_colab_link": true
    }
  },
  "cells": [
    {
      "cell_type": "markdown",
      "metadata": {
        "id": "view-in-github",
        "colab_type": "text"
      },
      "source": [
        "<a href=\"https://colab.research.google.com/github/Rohit4352/Campus_recruitment/blob/master/campus_recruit_eda_visualize_regressor_classifier.ipynb\" target=\"_parent\"><img src=\"https://colab.research.google.com/assets/colab-badge.svg\" alt=\"Open In Colab\"/></a>"
      ]
    },
    {
      "cell_type": "markdown",
      "metadata": {
        "papermill": {
          "duration": 0.019092,
          "end_time": "2020-08-08T12:29:42.730828",
          "exception": false,
          "start_time": "2020-08-08T12:29:42.711736",
          "status": "completed"
        },
        "tags": [],
        "id": "_eI3I2ETgIkl",
        "colab_type": "text"
      },
      "source": [
        "# Campus Recruitment\n",
        "   \n",
        "   Academic and Employability Factors influencing placement"
      ]
    },
    {
      "cell_type": "code",
      "metadata": {
        "_kg_hide-input": true,
        "_kg_hide-output": true,
        "execution": {
          "iopub.execute_input": "2020-08-08T12:29:42.774661Z",
          "iopub.status.busy": "2020-08-08T12:29:42.773692Z",
          "iopub.status.idle": "2020-08-08T12:29:44.095788Z",
          "shell.execute_reply": "2020-08-08T12:29:44.094655Z"
        },
        "papermill": {
          "duration": 1.349745,
          "end_time": "2020-08-08T12:29:44.096026",
          "exception": false,
          "start_time": "2020-08-08T12:29:42.746281",
          "status": "completed"
        },
        "tags": [],
        "id": "T0FRRKykgIkn",
        "colab_type": "code",
        "colab": {
          "base_uri": "https://localhost:8080/",
          "height": 70
        },
        "outputId": "66de47de-5cb3-48da-8df7-88ad8544f7cb"
      },
      "source": [
        "# This Python 3 environment comes with many helpful analytics libraries installed\n",
        "# It is defined by the kaggle/python Docker image: https://github.com/kaggle/docker-python\n",
        "# For example, here's several helpful packages to load\n",
        "\n",
        "import numpy as np # linear algebra\n",
        "import pandas as pd # data processing, CSV file I/O (e.g. pd.read_csv)\n",
        "import matplotlib.pyplot as plt\n",
        "import seaborn as sns\n",
        "import os\n",
        "import json\n",
        "\n",
        "%matplotlib inline\n",
        "# Input data files are available in the read-only \"../input/\" directory\n",
        "# For example, running this (by clicking run or pressing Shift+Enter) will list all files under the input directory\n",
        "import warnings\n",
        "warnings.filterwarnings(\"ignore\")\n",
        "\n",
        "import os\n",
        "for dirname, _, filenames in os.walk('/kaggle/input'):\n",
        "    for filename in filenames:\n",
        "        print(os.path.join(dirname, filename))\n",
        "\n",
        "# You can write up to 5GB to the current directory (/kaggle/working/) that gets preserved as output when you create a version using \"Save & Run All\" \n",
        "# You can also write temporary files to /kaggle/temp/, but they won't be saved outside of the current session"
      ],
      "execution_count": 1,
      "outputs": [
        {
          "output_type": "stream",
          "text": [
            "/usr/local/lib/python3.6/dist-packages/statsmodels/tools/_testing.py:19: FutureWarning: pandas.util.testing is deprecated. Use the functions in the public API at pandas.testing instead.\n",
            "  import pandas.util.testing as tm\n"
          ],
          "name": "stderr"
        }
      ]
    },
    {
      "cell_type": "markdown",
      "metadata": {
        "id": "zxbX0xsn18It",
        "papermill": {
          "duration": 0.014302,
          "end_time": "2020-08-08T12:29:44.126496",
          "exception": false,
          "start_time": "2020-08-08T12:29:44.112194",
          "status": "completed"
        },
        "tags": [],
        "colab_type": "text"
      },
      "source": [
        "# Importing dataset"
      ]
    },
    {
      "cell_type": "code",
      "metadata": {
        "execution": {
          "iopub.execute_input": "2020-08-08T12:29:44.164118Z",
          "iopub.status.busy": "2020-08-08T12:29:44.162922Z",
          "iopub.status.idle": "2020-08-08T12:29:44.207483Z",
          "shell.execute_reply": "2020-08-08T12:29:44.208268Z"
        },
        "id": "uiSm5DD_hTlt",
        "papermill": {
          "duration": 0.066746,
          "end_time": "2020-08-08T12:29:44.208445",
          "exception": false,
          "start_time": "2020-08-08T12:29:44.141699",
          "status": "completed"
        },
        "tags": [],
        "colab_type": "code",
        "colab": {
          "base_uri": "https://localhost:8080/",
          "height": 195
        },
        "outputId": "9e2f4057-2775-43fa-9668-775a77fa4d73"
      },
      "source": [
        "dataframe = pd.read_csv('Placement_Data_Full_Class.csv')\n",
        "dataframe.head()"
      ],
      "execution_count": 2,
      "outputs": [
        {
          "output_type": "execute_result",
          "data": {
            "text/html": [
              "<div>\n",
              "<style scoped>\n",
              "    .dataframe tbody tr th:only-of-type {\n",
              "        vertical-align: middle;\n",
              "    }\n",
              "\n",
              "    .dataframe tbody tr th {\n",
              "        vertical-align: top;\n",
              "    }\n",
              "\n",
              "    .dataframe thead th {\n",
              "        text-align: right;\n",
              "    }\n",
              "</style>\n",
              "<table border=\"1\" class=\"dataframe\">\n",
              "  <thead>\n",
              "    <tr style=\"text-align: right;\">\n",
              "      <th></th>\n",
              "      <th>sl_no</th>\n",
              "      <th>gender</th>\n",
              "      <th>ssc_p</th>\n",
              "      <th>ssc_b</th>\n",
              "      <th>hsc_p</th>\n",
              "      <th>hsc_b</th>\n",
              "      <th>hsc_s</th>\n",
              "      <th>degree_p</th>\n",
              "      <th>degree_t</th>\n",
              "      <th>workex</th>\n",
              "      <th>etest_p</th>\n",
              "      <th>specialisation</th>\n",
              "      <th>mba_p</th>\n",
              "      <th>status</th>\n",
              "      <th>salary</th>\n",
              "    </tr>\n",
              "  </thead>\n",
              "  <tbody>\n",
              "    <tr>\n",
              "      <th>0</th>\n",
              "      <td>1</td>\n",
              "      <td>M</td>\n",
              "      <td>67.00</td>\n",
              "      <td>Others</td>\n",
              "      <td>91.00</td>\n",
              "      <td>Others</td>\n",
              "      <td>Commerce</td>\n",
              "      <td>58.00</td>\n",
              "      <td>Sci&amp;Tech</td>\n",
              "      <td>No</td>\n",
              "      <td>55.0</td>\n",
              "      <td>Mkt&amp;HR</td>\n",
              "      <td>58.80</td>\n",
              "      <td>Placed</td>\n",
              "      <td>270000.0</td>\n",
              "    </tr>\n",
              "    <tr>\n",
              "      <th>1</th>\n",
              "      <td>2</td>\n",
              "      <td>M</td>\n",
              "      <td>79.33</td>\n",
              "      <td>Central</td>\n",
              "      <td>78.33</td>\n",
              "      <td>Others</td>\n",
              "      <td>Science</td>\n",
              "      <td>77.48</td>\n",
              "      <td>Sci&amp;Tech</td>\n",
              "      <td>Yes</td>\n",
              "      <td>86.5</td>\n",
              "      <td>Mkt&amp;Fin</td>\n",
              "      <td>66.28</td>\n",
              "      <td>Placed</td>\n",
              "      <td>200000.0</td>\n",
              "    </tr>\n",
              "    <tr>\n",
              "      <th>2</th>\n",
              "      <td>3</td>\n",
              "      <td>M</td>\n",
              "      <td>65.00</td>\n",
              "      <td>Central</td>\n",
              "      <td>68.00</td>\n",
              "      <td>Central</td>\n",
              "      <td>Arts</td>\n",
              "      <td>64.00</td>\n",
              "      <td>Comm&amp;Mgmt</td>\n",
              "      <td>No</td>\n",
              "      <td>75.0</td>\n",
              "      <td>Mkt&amp;Fin</td>\n",
              "      <td>57.80</td>\n",
              "      <td>Placed</td>\n",
              "      <td>250000.0</td>\n",
              "    </tr>\n",
              "    <tr>\n",
              "      <th>3</th>\n",
              "      <td>4</td>\n",
              "      <td>M</td>\n",
              "      <td>56.00</td>\n",
              "      <td>Central</td>\n",
              "      <td>52.00</td>\n",
              "      <td>Central</td>\n",
              "      <td>Science</td>\n",
              "      <td>52.00</td>\n",
              "      <td>Sci&amp;Tech</td>\n",
              "      <td>No</td>\n",
              "      <td>66.0</td>\n",
              "      <td>Mkt&amp;HR</td>\n",
              "      <td>59.43</td>\n",
              "      <td>Not Placed</td>\n",
              "      <td>NaN</td>\n",
              "    </tr>\n",
              "    <tr>\n",
              "      <th>4</th>\n",
              "      <td>5</td>\n",
              "      <td>M</td>\n",
              "      <td>85.80</td>\n",
              "      <td>Central</td>\n",
              "      <td>73.60</td>\n",
              "      <td>Central</td>\n",
              "      <td>Commerce</td>\n",
              "      <td>73.30</td>\n",
              "      <td>Comm&amp;Mgmt</td>\n",
              "      <td>No</td>\n",
              "      <td>96.8</td>\n",
              "      <td>Mkt&amp;Fin</td>\n",
              "      <td>55.50</td>\n",
              "      <td>Placed</td>\n",
              "      <td>425000.0</td>\n",
              "    </tr>\n",
              "  </tbody>\n",
              "</table>\n",
              "</div>"
            ],
            "text/plain": [
              "   sl_no gender  ssc_p    ssc_b  ...  specialisation  mba_p      status    salary\n",
              "0      1      M  67.00   Others  ...          Mkt&HR  58.80      Placed  270000.0\n",
              "1      2      M  79.33  Central  ...         Mkt&Fin  66.28      Placed  200000.0\n",
              "2      3      M  65.00  Central  ...         Mkt&Fin  57.80      Placed  250000.0\n",
              "3      4      M  56.00  Central  ...          Mkt&HR  59.43  Not Placed       NaN\n",
              "4      5      M  85.80  Central  ...         Mkt&Fin  55.50      Placed  425000.0\n",
              "\n",
              "[5 rows x 15 columns]"
            ]
          },
          "metadata": {
            "tags": []
          },
          "execution_count": 2
        }
      ]
    },
    {
      "cell_type": "markdown",
      "metadata": {
        "id": "uENbzGYTUvcX",
        "papermill": {
          "duration": 0.01475,
          "end_time": "2020-08-08T12:29:44.239427",
          "exception": false,
          "start_time": "2020-08-08T12:29:44.224677",
          "status": "completed"
        },
        "tags": [],
        "colab_type": "text"
      },
      "source": [
        "# Data Explortion"
      ]
    },
    {
      "cell_type": "code",
      "metadata": {
        "_kg_hide-output": true,
        "collapsed": true,
        "execution": {
          "iopub.execute_input": "2020-08-08T12:29:44.275564Z",
          "iopub.status.busy": "2020-08-08T12:29:44.274588Z",
          "iopub.status.idle": "2020-08-08T12:30:11.114005Z",
          "shell.execute_reply": "2020-08-08T12:30:11.111832Z"
        },
        "id": "dy4DLSEYTvI1",
        "papermill": {
          "duration": 26.859818,
          "end_time": "2020-08-08T12:30:11.114160",
          "exception": false,
          "start_time": "2020-08-08T12:29:44.254342",
          "status": "completed"
        },
        "tags": [],
        "colab_type": "code",
        "colab": {
          "base_uri": "https://localhost:8080/",
          "height": 337
        },
        "outputId": "3cada63e-d98a-4bae-d616-daf2ce7a7598"
      },
      "source": [
        "from pandas_profiling import ProfileReport\n",
        "profile = ProfileReport(dataframe);"
      ],
      "execution_count": 3,
      "outputs": [
        {
          "output_type": "error",
          "ename": "TypeError",
          "evalue": "ignored",
          "traceback": [
            "\u001b[0;31m---------------------------------------------------------------------------\u001b[0m",
            "\u001b[0;31mTypeError\u001b[0m                                 Traceback (most recent call last)",
            "\u001b[0;32m<ipython-input-3-94576f6c53a4>\u001b[0m in \u001b[0;36m<module>\u001b[0;34m()\u001b[0m\n\u001b[1;32m      1\u001b[0m \u001b[0;32mfrom\u001b[0m \u001b[0mpandas_profiling\u001b[0m \u001b[0;32mimport\u001b[0m \u001b[0mProfileReport\u001b[0m\u001b[0;34m\u001b[0m\u001b[0;34m\u001b[0m\u001b[0m\n\u001b[0;32m----> 2\u001b[0;31m \u001b[0mprofile\u001b[0m \u001b[0;34m=\u001b[0m \u001b[0mProfileReport\u001b[0m\u001b[0;34m(\u001b[0m\u001b[0mdataframe\u001b[0m\u001b[0;34m)\u001b[0m\u001b[0;34m;\u001b[0m\u001b[0;34m\u001b[0m\u001b[0;34m\u001b[0m\u001b[0m\n\u001b[0m",
            "\u001b[0;32m/usr/local/lib/python3.6/dist-packages/pandas_profiling/__init__.py\u001b[0m in \u001b[0;36m__init__\u001b[0;34m(self, df, **kwargs)\u001b[0m\n\u001b[1;32m     64\u001b[0m         \u001b[0msample\u001b[0m \u001b[0;34m=\u001b[0m \u001b[0mkwargs\u001b[0m\u001b[0;34m.\u001b[0m\u001b[0mget\u001b[0m\u001b[0;34m(\u001b[0m\u001b[0;34m'sample'\u001b[0m\u001b[0;34m,\u001b[0m \u001b[0mdf\u001b[0m\u001b[0;34m.\u001b[0m\u001b[0mhead\u001b[0m\u001b[0;34m(\u001b[0m\u001b[0;34m)\u001b[0m\u001b[0;34m)\u001b[0m\u001b[0;34m\u001b[0m\u001b[0;34m\u001b[0m\u001b[0m\n\u001b[1;32m     65\u001b[0m \u001b[0;34m\u001b[0m\u001b[0m\n\u001b[0;32m---> 66\u001b[0;31m         \u001b[0mdescription_set\u001b[0m \u001b[0;34m=\u001b[0m \u001b[0mdescribe\u001b[0m\u001b[0;34m(\u001b[0m\u001b[0mdf\u001b[0m\u001b[0;34m,\u001b[0m \u001b[0;34m**\u001b[0m\u001b[0mkwargs\u001b[0m\u001b[0;34m)\u001b[0m\u001b[0;34m\u001b[0m\u001b[0;34m\u001b[0m\u001b[0m\n\u001b[0m\u001b[1;32m     67\u001b[0m \u001b[0;34m\u001b[0m\u001b[0m\n\u001b[1;32m     68\u001b[0m         self.html = to_html(sample,\n",
            "\u001b[0;32m/usr/local/lib/python3.6/dist-packages/pandas_profiling/describe.py\u001b[0m in \u001b[0;36mdescribe\u001b[0;34m(df, bins, check_correlation, correlation_threshold, correlation_overrides, check_recoded, pool_size, **kwargs)\u001b[0m\n\u001b[1;32m    390\u001b[0m             \u001b[0;32mif\u001b[0m \u001b[0mname\u001b[0m \u001b[0;32mnot\u001b[0m \u001b[0;32min\u001b[0m \u001b[0mnames\u001b[0m\u001b[0;34m:\u001b[0m\u001b[0;34m\u001b[0m\u001b[0;34m\u001b[0m\u001b[0m\n\u001b[1;32m    391\u001b[0m                 \u001b[0mnames\u001b[0m\u001b[0;34m.\u001b[0m\u001b[0mappend\u001b[0m\u001b[0;34m(\u001b[0m\u001b[0mname\u001b[0m\u001b[0;34m)\u001b[0m\u001b[0;34m\u001b[0m\u001b[0;34m\u001b[0m\u001b[0m\n\u001b[0;32m--> 392\u001b[0;31m     \u001b[0mvariable_stats\u001b[0m \u001b[0;34m=\u001b[0m \u001b[0mpd\u001b[0m\u001b[0;34m.\u001b[0m\u001b[0mconcat\u001b[0m\u001b[0;34m(\u001b[0m\u001b[0mldesc\u001b[0m\u001b[0;34m,\u001b[0m \u001b[0mjoin_axes\u001b[0m\u001b[0;34m=\u001b[0m\u001b[0mpd\u001b[0m\u001b[0;34m.\u001b[0m\u001b[0mIndex\u001b[0m\u001b[0;34m(\u001b[0m\u001b[0;34m[\u001b[0m\u001b[0mnames\u001b[0m\u001b[0;34m]\u001b[0m\u001b[0;34m)\u001b[0m\u001b[0;34m,\u001b[0m \u001b[0maxis\u001b[0m\u001b[0;34m=\u001b[0m\u001b[0;36m1\u001b[0m\u001b[0;34m)\u001b[0m\u001b[0;34m\u001b[0m\u001b[0;34m\u001b[0m\u001b[0m\n\u001b[0m\u001b[1;32m    393\u001b[0m     \u001b[0mvariable_stats\u001b[0m\u001b[0;34m.\u001b[0m\u001b[0mcolumns\u001b[0m\u001b[0;34m.\u001b[0m\u001b[0mnames\u001b[0m \u001b[0;34m=\u001b[0m \u001b[0mdf\u001b[0m\u001b[0;34m.\u001b[0m\u001b[0mcolumns\u001b[0m\u001b[0;34m.\u001b[0m\u001b[0mnames\u001b[0m\u001b[0;34m\u001b[0m\u001b[0;34m\u001b[0m\u001b[0m\n\u001b[1;32m    394\u001b[0m \u001b[0;34m\u001b[0m\u001b[0m\n",
            "\u001b[0;31mTypeError\u001b[0m: concat() got an unexpected keyword argument 'join_axes'"
          ]
        }
      ]
    },
    {
      "cell_type": "code",
      "metadata": {
        "execution": {
          "iopub.execute_input": "2020-08-08T12:30:11.156134Z",
          "iopub.status.busy": "2020-08-08T12:30:11.155268Z",
          "iopub.status.idle": "2020-08-08T12:30:33.733582Z",
          "shell.execute_reply": "2020-08-08T12:30:33.732400Z"
        },
        "papermill": {
          "duration": 22.601482,
          "end_time": "2020-08-08T12:30:33.733813",
          "exception": false,
          "start_time": "2020-08-08T12:30:11.132331",
          "status": "completed"
        },
        "tags": [],
        "id": "L9_NkBbrgIlF",
        "colab_type": "code",
        "colab": {
          "base_uri": "https://localhost:8080/",
          "height": 162
        },
        "outputId": "3cac85eb-cae4-42fa-db9f-9fb34919bd10"
      },
      "source": [
        "profile.to_widgets()"
      ],
      "execution_count": 4,
      "outputs": [
        {
          "output_type": "error",
          "ename": "NameError",
          "evalue": "ignored",
          "traceback": [
            "\u001b[0;31m---------------------------------------------------------------------------\u001b[0m",
            "\u001b[0;31mNameError\u001b[0m                                 Traceback (most recent call last)",
            "\u001b[0;32m<ipython-input-4-1055f09e4b48>\u001b[0m in \u001b[0;36m<module>\u001b[0;34m()\u001b[0m\n\u001b[0;32m----> 1\u001b[0;31m \u001b[0mprofile\u001b[0m\u001b[0;34m.\u001b[0m\u001b[0mto_widgets\u001b[0m\u001b[0;34m(\u001b[0m\u001b[0;34m)\u001b[0m\u001b[0;34m\u001b[0m\u001b[0;34m\u001b[0m\u001b[0m\n\u001b[0m",
            "\u001b[0;31mNameError\u001b[0m: name 'profile' is not defined"
          ]
        }
      ]
    },
    {
      "cell_type": "markdown",
      "metadata": {
        "id": "MxjuFmYaU6P6",
        "papermill": {
          "duration": 0.020197,
          "end_time": "2020-08-08T12:30:33.780081",
          "exception": false,
          "start_time": "2020-08-08T12:30:33.759884",
          "status": "completed"
        },
        "tags": [],
        "colab_type": "text"
      },
      "source": [
        "***Averge percentage you require to get placed***"
      ]
    },
    {
      "cell_type": "code",
      "metadata": {
        "execution": {
          "iopub.execute_input": "2020-08-08T12:30:33.826902Z",
          "iopub.status.busy": "2020-08-08T12:30:33.825573Z",
          "iopub.status.idle": "2020-08-08T12:30:33.845318Z",
          "shell.execute_reply": "2020-08-08T12:30:33.844308Z"
        },
        "id": "lR4VwM1pZMMT",
        "papermill": {
          "duration": 0.047937,
          "end_time": "2020-08-08T12:30:33.845517",
          "exception": false,
          "start_time": "2020-08-08T12:30:33.797580",
          "status": "completed"
        },
        "tags": [],
        "colab_type": "code",
        "colab": {
          "base_uri": "https://localhost:8080/",
          "height": 136
        },
        "outputId": "b88e7410-9d68-4cae-d2d2-354db2c24365"
      },
      "source": [
        "df = pd.DataFrame.drop(dataframe,columns=[\"gender\",\"ssc_b\",\"hsc_b\",\"hsc_s\"])\n",
        "df_new = df.groupby(by  = 'status').mean()\n",
        "df_new"
      ],
      "execution_count": 3,
      "outputs": [
        {
          "output_type": "execute_result",
          "data": {
            "text/html": [
              "<div>\n",
              "<style scoped>\n",
              "    .dataframe tbody tr th:only-of-type {\n",
              "        vertical-align: middle;\n",
              "    }\n",
              "\n",
              "    .dataframe tbody tr th {\n",
              "        vertical-align: top;\n",
              "    }\n",
              "\n",
              "    .dataframe thead th {\n",
              "        text-align: right;\n",
              "    }\n",
              "</style>\n",
              "<table border=\"1\" class=\"dataframe\">\n",
              "  <thead>\n",
              "    <tr style=\"text-align: right;\">\n",
              "      <th></th>\n",
              "      <th>sl_no</th>\n",
              "      <th>ssc_p</th>\n",
              "      <th>hsc_p</th>\n",
              "      <th>degree_p</th>\n",
              "      <th>etest_p</th>\n",
              "      <th>mba_p</th>\n",
              "      <th>salary</th>\n",
              "    </tr>\n",
              "    <tr>\n",
              "      <th>status</th>\n",
              "      <th></th>\n",
              "      <th></th>\n",
              "      <th></th>\n",
              "      <th></th>\n",
              "      <th></th>\n",
              "      <th></th>\n",
              "      <th></th>\n",
              "    </tr>\n",
              "  </thead>\n",
              "  <tbody>\n",
              "    <tr>\n",
              "      <th>Not Placed</th>\n",
              "      <td>110.477612</td>\n",
              "      <td>57.544030</td>\n",
              "      <td>58.395522</td>\n",
              "      <td>61.134179</td>\n",
              "      <td>69.587910</td>\n",
              "      <td>61.612836</td>\n",
              "      <td>NaN</td>\n",
              "    </tr>\n",
              "    <tr>\n",
              "      <th>Placed</th>\n",
              "      <td>106.878378</td>\n",
              "      <td>71.721486</td>\n",
              "      <td>69.926554</td>\n",
              "      <td>68.740541</td>\n",
              "      <td>73.238041</td>\n",
              "      <td>62.579392</td>\n",
              "      <td>288655.405405</td>\n",
              "    </tr>\n",
              "  </tbody>\n",
              "</table>\n",
              "</div>"
            ],
            "text/plain": [
              "                 sl_no      ssc_p  ...      mba_p         salary\n",
              "status                             ...                          \n",
              "Not Placed  110.477612  57.544030  ...  61.612836            NaN\n",
              "Placed      106.878378  71.721486  ...  62.579392  288655.405405\n",
              "\n",
              "[2 rows x 7 columns]"
            ]
          },
          "metadata": {
            "tags": []
          },
          "execution_count": 3
        }
      ]
    },
    {
      "cell_type": "markdown",
      "metadata": {
        "id": "NI9xDNTOcPIR",
        "papermill": {
          "duration": 0.020981,
          "end_time": "2020-08-08T12:30:33.892667",
          "exception": false,
          "start_time": "2020-08-08T12:30:33.871686",
          "status": "completed"
        },
        "tags": [],
        "colab_type": "text"
      },
      "source": [
        "# Data visualisation"
      ]
    },
    {
      "cell_type": "markdown",
      "metadata": {
        "id": "qjhr97wKVRJe",
        "papermill": {
          "duration": 0.017955,
          "end_time": "2020-08-08T12:30:33.928923",
          "exception": false,
          "start_time": "2020-08-08T12:30:33.910968",
          "status": "completed"
        },
        "tags": [],
        "colab_type": "text"
      },
      "source": [
        "***Number of students from central, other boards in different class***"
      ]
    },
    {
      "cell_type": "code",
      "metadata": {
        "execution": {
          "iopub.execute_input": "2020-08-08T12:30:33.980076Z",
          "iopub.status.busy": "2020-08-08T12:30:33.978909Z",
          "iopub.status.idle": "2020-08-08T12:30:35.292434Z",
          "shell.execute_reply": "2020-08-08T12:30:35.291257Z"
        },
        "id": "aCV9F4nT4aLG",
        "papermill": {
          "duration": 1.345508,
          "end_time": "2020-08-08T12:30:35.292640",
          "exception": false,
          "start_time": "2020-08-08T12:30:33.947132",
          "status": "completed"
        },
        "tags": [],
        "colab_type": "code",
        "colab": {
          "base_uri": "https://localhost:8080/",
          "height": 1000
        },
        "outputId": "00d160c0-eec5-4048-a9e3-c2811782ede1"
      },
      "source": [
        "sns.catplot(x=\"ssc_b\",hue=\"gender\",data=dataframe, kind=\"count\",)\n",
        "plt.ylabel(\"No. of students\")\n",
        "plt.xlabel(\"senior secondary\")\n",
        "sns.catplot(x=\"hsc_b\",hue=\"gender\",data=dataframe, kind=\"count\")\n",
        "plt.ylabel(\"No. of students\")\n",
        "plt.xlabel(\"higher senior secondary\")\n",
        "sns.catplot(x=\"hsc_s\",hue=\"gender\",data=dataframe, kind=\"count\")\n",
        "plt.ylabel(\"No. of students\")\n",
        "plt.xlabel(\"prefered subjects\")"
      ],
      "execution_count": 4,
      "outputs": [
        {
          "output_type": "execute_result",
          "data": {
            "text/plain": [
              "Text(0.5, 21.70625000000002, 'prefered subjects')"
            ]
          },
          "metadata": {
            "tags": []
          },
          "execution_count": 4
        },
        {
          "output_type": "display_data",
          "data": {
            "image/png": "[encoded data removed]",
            "text/plain": [
              "<Figure size 404.625x360 with 1 Axes>"
            ]
          },
          "metadata": {
            "tags": [],
            "needs_background": "light"
          }
        },
        {
          "output_type": "display_data",
          "data": {
            "image/png": "[encoded data removed]",
            "text/plain": [
              "<Figure size 404.625x360 with 1 Axes>"
            ]
          },
          "metadata": {
            "tags": [],
            "needs_background": "light"
          }
        },
        {
          "output_type": "display_data",
          "data": {
            "image/png": "[encoded data removed]",
            "text/plain": [
              "<Figure size 404.625x360 with 1 Axes>"
            ]
          },
          "metadata": {
            "tags": [],
            "needs_background": "light"
          }
        }
      ]
    },
    {
      "cell_type": "markdown",
      "metadata": {
        "id": "GDbCIKaiVrDM",
        "papermill": {
          "duration": 0.018816,
          "end_time": "2020-08-08T12:30:35.335726",
          "exception": false,
          "start_time": "2020-08-08T12:30:35.316910",
          "status": "completed"
        },
        "tags": [],
        "colab_type": "text"
      },
      "source": [
        "***Higher secondary percentage gender wise***"
      ]
    },
    {
      "cell_type": "code",
      "metadata": {
        "execution": {
          "iopub.execute_input": "2020-08-08T12:30:35.399778Z",
          "iopub.status.busy": "2020-08-08T12:30:35.387180Z",
          "iopub.status.idle": "2020-08-08T12:30:35.817684Z",
          "shell.execute_reply": "2020-08-08T12:30:35.816884Z"
        },
        "id": "z1qOSfTWR5xQ",
        "papermill": {
          "duration": 0.463258,
          "end_time": "2020-08-08T12:30:35.817823",
          "exception": false,
          "start_time": "2020-08-08T12:30:35.354565",
          "status": "completed"
        },
        "tags": [],
        "colab_type": "code",
        "colab": {
          "base_uri": "https://localhost:8080/",
          "height": 368
        },
        "outputId": "b56f17da-9c6a-4707-b00f-8332974bf2b5"
      },
      "source": [
        "sns.catplot(x=\"ssc_b\",y=\"ssc_p\",hue=\"gender\",data=dataframe,kind=\"boxen\");\n",
        "plt.ylabel(\"percentage\");\n",
        "plt.xlabel(\"boards\");"
      ],
      "execution_count": 5,
      "outputs": [
        {
          "output_type": "display_data",
          "data": {
            "image/png": "[encoded data removed]",
            "text/plain": [
              "<Figure size 404.625x360 with 1 Axes>"
            ]
          },
          "metadata": {
            "tags": [],
            "needs_background": "light"
          }
        }
      ]
    },
    {
      "cell_type": "markdown",
      "metadata": {
        "id": "AGlesoZUV5P6",
        "papermill": {
          "duration": 0.019191,
          "end_time": "2020-08-08T12:30:35.856529",
          "exception": false,
          "start_time": "2020-08-08T12:30:35.837338",
          "status": "completed"
        },
        "tags": [],
        "colab_type": "text"
      },
      "source": [
        "    Average percentage of girls in both boards is higher than boys"
      ]
    },
    {
      "cell_type": "markdown",
      "metadata": {
        "id": "3C7pOdavWJMB",
        "papermill": {
          "duration": 0.018771,
          "end_time": "2020-08-08T12:30:35.894377",
          "exception": false,
          "start_time": "2020-08-08T12:30:35.875606",
          "status": "completed"
        },
        "tags": [],
        "colab_type": "text"
      },
      "source": [
        "***Work experience for stdents in different degrees***"
      ]
    },
    {
      "cell_type": "code",
      "metadata": {
        "execution": {
          "iopub.execute_input": "2020-08-08T12:30:35.948969Z",
          "iopub.status.busy": "2020-08-08T12:30:35.943796Z",
          "iopub.status.idle": "2020-08-08T12:30:36.705767Z",
          "shell.execute_reply": "2020-08-08T12:30:36.705140Z"
        },
        "id": "YFI8M_FNTd2w",
        "papermill": {
          "duration": 0.792544,
          "end_time": "2020-08-08T12:30:36.705940",
          "exception": false,
          "start_time": "2020-08-08T12:30:35.913396",
          "status": "completed"
        },
        "tags": [],
        "colab_type": "code",
        "colab": {
          "base_uri": "https://localhost:8080/",
          "height": 737
        },
        "outputId": "a419c1df-a286-4e6f-8b9d-f718ff2718c7"
      },
      "source": [
        "sns.catplot(x=\"workex\",hue=\"degree_t\",data=dataframe, kind=\"count\", )\n",
        "plt.ylabel(\"No. of students\")\n",
        "plt.xlabel(\"work exp in different degrees\")\n",
        "sns.catplot(x=\"degree_t\",hue=\"workex\",data=dataframe, kind=\"count\")\n",
        "plt.ylabel(\"No. of students\")\n",
        "plt.xlabel(\"work exp in different degrees\")"
      ],
      "execution_count": 6,
      "outputs": [
        {
          "output_type": "execute_result",
          "data": {
            "text/plain": [
              "Text(0.5, 21.706249999999983, 'work exp in different degrees')"
            ]
          },
          "metadata": {
            "tags": []
          },
          "execution_count": 6
        },
        {
          "output_type": "display_data",
          "data": {
            "image/png": "[encoded data removed]",
            "text/plain": [
              "<Figure size 464.5x360 with 1 Axes>"
            ]
          },
          "metadata": {
            "tags": [],
            "needs_background": "light"
          }
        },
        {
          "output_type": "display_data",
          "data": {
            "image/png": "[encoded data removed]",
            "text/plain": [
              "<Figure size 412x360 with 1 Axes>"
            ]
          },
          "metadata": {
            "tags": [],
            "needs_background": "light"
          }
        }
      ]
    },
    {
      "cell_type": "markdown",
      "metadata": {
        "id": "Wgtc-0JFWQBe",
        "papermill": {
          "duration": 0.020141,
          "end_time": "2020-08-08T12:30:36.747715",
          "exception": false,
          "start_time": "2020-08-08T12:30:36.727574",
          "status": "completed"
        },
        "tags": [],
        "colab_type": "text"
      },
      "source": [
        "***which stream is prefered by students the most***"
      ]
    },
    {
      "cell_type": "code",
      "metadata": {
        "execution": {
          "iopub.execute_input": "2020-08-08T12:30:36.809611Z",
          "iopub.status.busy": "2020-08-08T12:30:36.803210Z",
          "iopub.status.idle": "2020-08-08T12:30:36.908869Z",
          "shell.execute_reply": "2020-08-08T12:30:36.908064Z"
        },
        "id": "xKG5ykBtakLn",
        "papermill": {
          "duration": 0.141194,
          "end_time": "2020-08-08T12:30:36.909015",
          "exception": false,
          "start_time": "2020-08-08T12:30:36.767821",
          "status": "completed"
        },
        "tags": [],
        "colab_type": "code",
        "colab": {
          "base_uri": "https://localhost:8080/",
          "height": 303
        },
        "outputId": "1f0a8090-a77b-4bb9-ac8c-35a62fe4ff15"
      },
      "source": [
        "df1 = pd.DataFrame(dataframe['degree_t'].value_counts(normalize=True))\n",
        "plot = df1.plot.pie(y='degree_t', autopct='%1.1f%%', figsize=(5, 5))"
      ],
      "execution_count": 7,
      "outputs": [
        {
          "output_type": "display_data",
          "data": {
            "image/png": "[encoded data removed]",
            "text/plain": [
              "<Figure size 360x360 with 1 Axes>"
            ]
          },
          "metadata": {
            "tags": []
          }
        }
      ]
    },
    {
      "cell_type": "markdown",
      "metadata": {
        "id": "QfwVx08dX0Ts",
        "papermill": {
          "duration": 0.022412,
          "end_time": "2020-08-08T12:30:36.952323",
          "exception": false,
          "start_time": "2020-08-08T12:30:36.929911",
          "status": "completed"
        },
        "tags": [],
        "colab_type": "text"
      },
      "source": [
        "***percentage of specialisation***"
      ]
    },
    {
      "cell_type": "code",
      "metadata": {
        "execution": {
          "iopub.execute_input": "2020-08-08T12:30:37.022525Z",
          "iopub.status.busy": "2020-08-08T12:30:37.013398Z",
          "iopub.status.idle": "2020-08-08T12:30:37.119599Z",
          "shell.execute_reply": "2020-08-08T12:30:37.118296Z"
        },
        "id": "Zd9o9QQ0Wb6o",
        "papermill": {
          "duration": 0.146774,
          "end_time": "2020-08-08T12:30:37.119788",
          "exception": false,
          "start_time": "2020-08-08T12:30:36.973014",
          "status": "completed"
        },
        "tags": [],
        "colab_type": "code",
        "colab": {
          "base_uri": "https://localhost:8080/",
          "height": 303
        },
        "outputId": "dfdab123-2fae-48e0-9781-55b97cf48304"
      },
      "source": [
        "df2 = pd.DataFrame(dataframe['specialisation'].value_counts(normalize=True))\n",
        "plot = df2.plot.pie(y='specialisation', autopct='%1.1f%%', figsize=(5, 5))"
      ],
      "execution_count": 8,
      "outputs": [
        {
          "output_type": "display_data",
          "data": {
            "image/png": "[encoded data removed]",
            "text/plain": [
              "<Figure size 360x360 with 1 Axes>"
            ]
          },
          "metadata": {
            "tags": []
          }
        }
      ]
    },
    {
      "cell_type": "markdown",
      "metadata": {
        "id": "25to_DYKX78w",
        "papermill": {
          "duration": 0.020962,
          "end_time": "2020-08-08T12:30:37.162291",
          "exception": false,
          "start_time": "2020-08-08T12:30:37.141329",
          "status": "completed"
        },
        "tags": [],
        "colab_type": "text"
      },
      "source": [
        "***Students that got placement***"
      ]
    },
    {
      "cell_type": "code",
      "metadata": {
        "execution": {
          "iopub.execute_input": "2020-08-08T12:30:37.237313Z",
          "iopub.status.busy": "2020-08-08T12:30:37.233828Z",
          "iopub.status.idle": "2020-08-08T12:30:37.323801Z",
          "shell.execute_reply": "2020-08-08T12:30:37.322996Z"
        },
        "id": "O17MSH2GXtiz",
        "papermill": {
          "duration": 0.140496,
          "end_time": "2020-08-08T12:30:37.323977",
          "exception": false,
          "start_time": "2020-08-08T12:30:37.183481",
          "status": "completed"
        },
        "tags": [],
        "colab_type": "code",
        "colab": {
          "base_uri": "https://localhost:8080/",
          "height": 303
        },
        "outputId": "b85fb728-ae88-425d-89a2-b3580eb9cd3e"
      },
      "source": [
        "df3 = pd.DataFrame(dataframe['status'].value_counts(normalize=True))\n",
        "plot = df3.plot.pie(y='status', autopct='%1.1f%%', figsize=(5, 5))"
      ],
      "execution_count": 9,
      "outputs": [
        {
          "output_type": "display_data",
          "data": {
            "image/png": "[encoded data removed]",
            "text/plain": [
              "<Figure size 360x360 with 1 Axes>"
            ]
          },
          "metadata": {
            "tags": []
          }
        }
      ]
    },
    {
      "cell_type": "markdown",
      "metadata": {
        "id": "pNqFw4HGYJiD",
        "papermill": {
          "duration": 0.021664,
          "end_time": "2020-08-08T12:30:37.368537",
          "exception": false,
          "start_time": "2020-08-08T12:30:37.346873",
          "status": "completed"
        },
        "tags": [],
        "colab_type": "text"
      },
      "source": [
        "**Data Distribution**"
      ]
    },
    {
      "cell_type": "code",
      "metadata": {
        "execution": {
          "iopub.execute_input": "2020-08-08T12:30:37.426894Z",
          "iopub.status.busy": "2020-08-08T12:30:37.418350Z",
          "iopub.status.idle": "2020-08-08T12:30:40.044965Z",
          "shell.execute_reply": "2020-08-08T12:30:40.044120Z"
        },
        "id": "jQb3uupkdpm-",
        "papermill": {
          "duration": 2.655096,
          "end_time": "2020-08-08T12:30:40.045108",
          "exception": false,
          "start_time": "2020-08-08T12:30:37.390012",
          "status": "completed"
        },
        "tags": [],
        "colab_type": "code",
        "colab": {
          "base_uri": "https://localhost:8080/",
          "height": 775
        },
        "outputId": "43f5b872-ce1e-4488-ef42-644057eef39e"
      },
      "source": [
        "dataframe.hist(bins = 30, figsize=(10,10), color= 'orange')"
      ],
      "execution_count": 10,
      "outputs": [
        {
          "output_type": "execute_result",
          "data": {
            "text/plain": [
              "array([[<matplotlib.axes._subplots.AxesSubplot object at 0x7f8eae6ca9b0>,\n",
              "        <matplotlib.axes._subplots.AxesSubplot object at 0x7f8eadb8fc88>,\n",
              "        <matplotlib.axes._subplots.AxesSubplot object at 0x7f8eadb43eb8>],\n",
              "       [<matplotlib.axes._subplots.AxesSubplot object at 0x7f8eadb02160>,\n",
              "        <matplotlib.axes._subplots.AxesSubplot object at 0x7f8eadab63c8>,\n",
              "        <matplotlib.axes._subplots.AxesSubplot object at 0x7f8eadaeb630>],\n",
              "       [<matplotlib.axes._subplots.AxesSubplot object at 0x7f8eada9d898>,\n",
              "        <matplotlib.axes._subplots.AxesSubplot object at 0x7f8eada52ac8>,\n",
              "        <matplotlib.axes._subplots.AxesSubplot object at 0x7f8eada52b38>]],\n",
              "      dtype=object)"
            ]
          },
          "metadata": {
            "tags": []
          },
          "execution_count": 10
        },
        {
          "output_type": "display_data",
          "data": {
            "image/png": "[encoded data removed]",
            "text/plain": [
              "<Figure size 720x720 with 9 Axes>"
            ]
          },
          "metadata": {
            "tags": [],
            "needs_background": "light"
          }
        }
      ]
    },
    {
      "cell_type": "markdown",
      "metadata": {
        "id": "FnlUii5VmvbU",
        "papermill": {
          "duration": 0.023914,
          "end_time": "2020-08-08T12:30:40.092296",
          "exception": false,
          "start_time": "2020-08-08T12:30:40.068382",
          "status": "completed"
        },
        "tags": [],
        "colab_type": "text"
      },
      "source": [
        "**finding the salary outliers**"
      ]
    },
    {
      "cell_type": "code",
      "metadata": {
        "execution": {
          "iopub.execute_input": "2020-08-08T12:30:40.167535Z",
          "iopub.status.busy": "2020-08-08T12:30:40.164949Z",
          "iopub.status.idle": "2020-08-08T12:30:40.598073Z",
          "shell.execute_reply": "2020-08-08T12:30:40.597344Z"
        },
        "id": "PLwaGQtnl1vv",
        "papermill": {
          "duration": 0.481399,
          "end_time": "2020-08-08T12:30:40.598222",
          "exception": false,
          "start_time": "2020-08-08T12:30:40.116823",
          "status": "completed"
        },
        "tags": [],
        "colab_type": "code",
        "colab": {
          "base_uri": "https://localhost:8080/",
          "height": 386
        },
        "outputId": "4da29ca8-4e07-4691-8c3c-929aa772af97"
      },
      "source": [
        "sns.catplot(y=\"salary\",x=\"gender\",data=dataframe, kind=\"box\", hue=\"specialisation\" )"
      ],
      "execution_count": 11,
      "outputs": [
        {
          "output_type": "execute_result",
          "data": {
            "text/plain": [
              "<seaborn.axisgrid.FacetGrid at 0x7f8eb15adcc0>"
            ]
          },
          "metadata": {
            "tags": []
          },
          "execution_count": 11
        },
        {
          "output_type": "display_data",
          "data": {
            "image/png": "[encoded data removed]",
            "text/plain": [
              "<Figure size 436.5x360 with 1 Axes>"
            ]
          },
          "metadata": {
            "tags": [],
            "needs_background": "light"
          }
        }
      ]
    },
    {
      "cell_type": "code",
      "metadata": {
        "id": "pKI_faK3PbR6",
        "colab_type": "code",
        "colab": {
          "base_uri": "https://localhost:8080/",
          "height": 67
        },
        "outputId": "3a49c0b5-b862-4e0d-c5a3-a92b16c029b9"
      },
      "source": [
        "!pip install plotly --upgrade"
      ],
      "execution_count": 12,
      "outputs": [
        {
          "output_type": "stream",
          "text": [
            "Requirement already up-to-date: plotly in /usr/local/lib/python3.6/dist-packages (4.9.0)\n",
            "Requirement already satisfied, skipping upgrade: six in /usr/local/lib/python3.6/dist-packages (from plotly) (1.15.0)\n",
            "Requirement already satisfied, skipping upgrade: retrying>=1.3.3 in /usr/local/lib/python3.6/dist-packages (from plotly) (1.3.3)\n"
          ],
          "name": "stdout"
        }
      ]
    },
    {
      "cell_type": "code",
      "metadata": {
        "execution": {
          "iopub.execute_input": "2020-08-08T12:30:40.653533Z",
          "iopub.status.busy": "2020-08-08T12:30:40.652688Z",
          "iopub.status.idle": "2020-08-08T12:30:43.170054Z",
          "shell.execute_reply": "2020-08-08T12:30:43.169199Z"
        },
        "id": "0j8BUHeHiApW",
        "papermill": {
          "duration": 2.549164,
          "end_time": "2020-08-08T12:30:43.170203",
          "exception": false,
          "start_time": "2020-08-08T12:30:40.621039",
          "status": "completed"
        },
        "tags": [],
        "colab_type": "code",
        "colab": {
          "base_uri": "https://localhost:8080/",
          "height": 542
        },
        "outputId": "a1cb5cd4-9082-47ec-f0c5-d71b3c52d49e"
      },
      "source": [
        "import plotly.express as px\n",
        "dfc=pd.DataFrame(dataframe.groupby(['gender','specialisation','status'])['sl_no'].count()).rename(columns={'sl_no': 'no. of students'}).reset_index()\n",
        "\n",
        "fig = px.sunburst(dfc, path=['gender','status','specialisation'], values='no. of students')\n",
        "fig.update_layout(title=\"Placement % of mba in each specialisation by gender \",title_x=0.5)\n",
        "fig.show()"
      ],
      "execution_count": 13,
      "outputs": [
        {
          "output_type": "display_data",
          "data": {
            "text/html": [
              "<html>\n",
              "<head><meta charset=\"utf-8\" /></head>\n",
              "<body>\n",
              "    <div>\n",
              "            <script src=\"https://cdnjs.cloudflare.com/ajax/libs/mathjax/2.7.5/MathJax.js?config=TeX-AMS-MML_SVG\"></script><script type=\"text/javascript\">if (window.MathJax) {MathJax.Hub.Config({SVG: {font: \"STIX-Web\"}});}</script>\n",
              "                <script type=\"text/javascript\">window.PlotlyConfig = {MathJaxConfig: 'local'};</script>\n",
              "        <script src=\"https://cdn.plot.ly/plotly-latest.min.js\"></script>    \n",
              "            <div id=\"2fcbc900-76cf-4942-9599-4f50192addb8\" class=\"plotly-graph-div\" style=\"height:525px; width:100%;\"></div>\n",
              "            <script type=\"text/javascript\">\n",
              "                \n",
              "                    window.PLOTLYENV=window.PLOTLYENV || {};\n",
              "                    \n",
              "                if (document.getElementById(\"2fcbc900-76cf-4942-9599-4f50192addb8\")) {\n",
              "                    Plotly.newPlot(\n",
              "                        '2fcbc900-76cf-4942-9599-4f50192addb8',\n",
              "                        [{\"branchvalues\": \"total\", \"domain\": {\"x\": [0.0, 1.0], \"y\": [0.0, 1.0]}, \"hovertemplate\": \"labels=%{label}<br>no. of students=%{value}<br>parent=%{parent}<br>id=%{id}<extra></extra>\", \"ids\": [\"F/Not Placed/Mkt&Fin\", \"M/Not Placed/Mkt&Fin\", \"F/Placed/Mkt&Fin\", \"M/Placed/Mkt&Fin\", \"F/Not Placed/Mkt&HR\", \"M/Not Placed/Mkt&HR\", \"F/Placed/Mkt&HR\", \"M/Placed/Mkt&HR\", \"F/Not Placed\", \"M/Not Placed\", \"F/Placed\", \"M/Placed\", \"F\", \"M\"], \"labels\": [\"Mkt&Fin\", \"Mkt&Fin\", \"Mkt&Fin\", \"Mkt&Fin\", \"Mkt&HR\", \"Mkt&HR\", \"Mkt&HR\", \"Mkt&HR\", \"Not Placed\", \"Not Placed\", \"Placed\", \"Placed\", \"F\", \"M\"], \"name\": \"\", \"parents\": [\"F/Not Placed\", \"M/Not Placed\", \"F/Placed\", \"M/Placed\", \"F/Not Placed\", \"M/Not Placed\", \"F/Placed\", \"M/Placed\", \"F\", \"M\", \"F\", \"M\", \"\", \"\"], \"type\": \"sunburst\", \"values\": [9, 16, 28, 67, 19, 23, 20, 33, 28, 39, 48, 100, 76, 139]}],\n",
              "                        {\"legend\": {\"tracegroupgap\": 0}, \"margin\": {\"t\": 60}, \"template\": {\"data\": {\"bar\": [{\"error_x\": {\"color\": \"#2a3f5f\"}, \"error_y\": {\"color\": \"#2a3f5f\"}, \"marker\": {\"line\": {\"color\": \"#E5ECF6\", \"width\": 0.5}}, \"type\": \"bar\"}], \"barpolar\": [{\"marker\": {\"line\": {\"color\": \"#E5ECF6\", \"width\": 0.5}}, \"type\": \"barpolar\"}], \"carpet\": [{\"aaxis\": {\"endlinecolor\": \"#2a3f5f\", \"gridcolor\": \"white\", \"linecolor\": \"white\", \"minorgridcolor\": \"white\", \"startlinecolor\": \"#2a3f5f\"}, \"baxis\": {\"endlinecolor\": \"#2a3f5f\", \"gridcolor\": \"white\", \"linecolor\": \"white\", \"minorgridcolor\": \"white\", \"startlinecolor\": \"#2a3f5f\"}, \"type\": \"carpet\"}], \"choropleth\": [{\"colorbar\": {\"outlinewidth\": 0, \"ticks\": \"\"}, \"type\": \"choropleth\"}], \"contour\": [{\"colorbar\": {\"outlinewidth\": 0, \"ticks\": \"\"}, \"colorscale\": [[0.0, \"#0d0887\"], [0.1111111111111111, \"#46039f\"], [0.2222222222222222, \"#7201a8\"], [0.3333333333333333, \"#9c179e\"], [0.4444444444444444, \"#bd3786\"], [0.5555555555555556, \"#d8576b\"], [0.6666666666666666, \"#ed7953\"], [0.7777777777777778, \"#fb9f3a\"], [0.8888888888888888, \"#fdca26\"], [1.0, \"#f0f921\"]], \"type\": \"contour\"}], \"contourcarpet\": [{\"colorbar\": {\"outlinewidth\": 0, \"ticks\": \"\"}, \"type\": \"contourcarpet\"}], \"heatmap\": [{\"colorbar\": {\"outlinewidth\": 0, \"ticks\": \"\"}, \"colorscale\": [[0.0, \"#0d0887\"], [0.1111111111111111, \"#46039f\"], [0.2222222222222222, \"#7201a8\"], [0.3333333333333333, \"#9c179e\"], [0.4444444444444444, \"#bd3786\"], [0.5555555555555556, \"#d8576b\"], [0.6666666666666666, \"#ed7953\"], [0.7777777777777778, \"#fb9f3a\"], [0.8888888888888888, \"#fdca26\"], [1.0, \"#f0f921\"]], \"type\": \"heatmap\"}], \"heatmapgl\": [{\"colorbar\": {\"outlinewidth\": 0, \"ticks\": \"\"}, \"colorscale\": [[0.0, \"#0d0887\"], [0.1111111111111111, \"#46039f\"], [0.2222222222222222, \"#7201a8\"], [0.3333333333333333, \"#9c179e\"], [0.4444444444444444, \"#bd3786\"], [0.5555555555555556, \"#d8576b\"], [0.6666666666666666, \"#ed7953\"], [0.7777777777777778, \"#fb9f3a\"], [0.8888888888888888, \"#fdca26\"], [1.0, \"#f0f921\"]], \"type\": \"heatmapgl\"}], \"histogram\": [{\"marker\": {\"colorbar\": {\"outlinewidth\": 0, \"ticks\": \"\"}}, \"type\": \"histogram\"}], \"histogram2d\": [{\"colorbar\": {\"outlinewidth\": 0, \"ticks\": \"\"}, \"colorscale\": [[0.0, \"#0d0887\"], [0.1111111111111111, \"#46039f\"], [0.2222222222222222, \"#7201a8\"], [0.3333333333333333, \"#9c179e\"], [0.4444444444444444, \"#bd3786\"], [0.5555555555555556, \"#d8576b\"], [0.6666666666666666, \"#ed7953\"], [0.7777777777777778, \"#fb9f3a\"], [0.8888888888888888, \"#fdca26\"], [1.0, \"#f0f921\"]], \"type\": \"histogram2d\"}], \"histogram2dcontour\": [{\"colorbar\": {\"outlinewidth\": 0, \"ticks\": \"\"}, \"colorscale\": [[0.0, \"#0d0887\"], [0.1111111111111111, \"#46039f\"], [0.2222222222222222, \"#7201a8\"], [0.3333333333333333, \"#9c179e\"], [0.4444444444444444, \"#bd3786\"], [0.5555555555555556, \"#d8576b\"], [0.6666666666666666, \"#ed7953\"], [0.7777777777777778, \"#fb9f3a\"], [0.8888888888888888, \"#fdca26\"], [1.0, \"#f0f921\"]], \"type\": \"histogram2dcontour\"}], \"mesh3d\": [{\"colorbar\": {\"outlinewidth\": 0, \"ticks\": \"\"}, \"type\": \"mesh3d\"}], \"parcoords\": [{\"line\": {\"colorbar\": {\"outlinewidth\": 0, \"ticks\": \"\"}}, \"type\": \"parcoords\"}], \"pie\": [{\"automargin\": true, \"type\": \"pie\"}], \"scatter\": [{\"marker\": {\"colorbar\": {\"outlinewidth\": 0, \"ticks\": \"\"}}, \"type\": \"scatter\"}], \"scatter3d\": [{\"line\": {\"colorbar\": {\"outlinewidth\": 0, \"ticks\": \"\"}}, \"marker\": {\"colorbar\": {\"outlinewidth\": 0, \"ticks\": \"\"}}, \"type\": \"scatter3d\"}], \"scattercarpet\": [{\"marker\": {\"colorbar\": {\"outlinewidth\": 0, \"ticks\": \"\"}}, \"type\": \"scattercarpet\"}], \"scattergeo\": [{\"marker\": {\"colorbar\": {\"outlinewidth\": 0, \"ticks\": \"\"}}, \"type\": \"scattergeo\"}], \"scattergl\": [{\"marker\": {\"colorbar\": {\"outlinewidth\": 0, \"ticks\": \"\"}}, \"type\": \"scattergl\"}], \"scattermapbox\": [{\"marker\": {\"colorbar\": {\"outlinewidth\": 0, \"ticks\": \"\"}}, \"type\": \"scattermapbox\"}], \"scatterpolar\": [{\"marker\": {\"colorbar\": {\"outlinewidth\": 0, \"ticks\": \"\"}}, \"type\": \"scatterpolar\"}], \"scatterpolargl\": [{\"marker\": {\"colorbar\": {\"outlinewidth\": 0, \"ticks\": \"\"}}, \"type\": \"scatterpolargl\"}], \"scatterternary\": [{\"marker\": {\"colorbar\": {\"outlinewidth\": 0, \"ticks\": \"\"}}, \"type\": \"scatterternary\"}], \"surface\": [{\"colorbar\": {\"outlinewidth\": 0, \"ticks\": \"\"}, \"colorscale\": [[0.0, \"#0d0887\"], [0.1111111111111111, \"#46039f\"], [0.2222222222222222, \"#7201a8\"], [0.3333333333333333, \"#9c179e\"], [0.4444444444444444, \"#bd3786\"], [0.5555555555555556, \"#d8576b\"], [0.6666666666666666, \"#ed7953\"], [0.7777777777777778, \"#fb9f3a\"], [0.8888888888888888, \"#fdca26\"], [1.0, \"#f0f921\"]], \"type\": \"surface\"}], \"table\": [{\"cells\": {\"fill\": {\"color\": \"#EBF0F8\"}, \"line\": {\"color\": \"white\"}}, \"header\": {\"fill\": {\"color\": \"#C8D4E3\"}, \"line\": {\"color\": \"white\"}}, \"type\": \"table\"}]}, \"layout\": {\"annotationdefaults\": {\"arrowcolor\": \"#2a3f5f\", \"arrowhead\": 0, \"arrowwidth\": 1}, \"coloraxis\": {\"colorbar\": {\"outlinewidth\": 0, \"ticks\": \"\"}}, \"colorscale\": {\"diverging\": [[0, \"#8e0152\"], [0.1, \"#c51b7d\"], [0.2, \"#de77ae\"], [0.3, \"#f1b6da\"], [0.4, \"#fde0ef\"], [0.5, \"#f7f7f7\"], [0.6, \"#e6f5d0\"], [0.7, \"#b8e186\"], [0.8, \"#7fbc41\"], [0.9, \"#4d9221\"], [1, \"#276419\"]], \"sequential\": [[0.0, \"#0d0887\"], [0.1111111111111111, \"#46039f\"], [0.2222222222222222, \"#7201a8\"], [0.3333333333333333, \"#9c179e\"], [0.4444444444444444, \"#bd3786\"], [0.5555555555555556, \"#d8576b\"], [0.6666666666666666, \"#ed7953\"], [0.7777777777777778, \"#fb9f3a\"], [0.8888888888888888, \"#fdca26\"], [1.0, \"#f0f921\"]], \"sequentialminus\": [[0.0, \"#0d0887\"], [0.1111111111111111, \"#46039f\"], [0.2222222222222222, \"#7201a8\"], [0.3333333333333333, \"#9c179e\"], [0.4444444444444444, \"#bd3786\"], [0.5555555555555556, \"#d8576b\"], [0.6666666666666666, \"#ed7953\"], [0.7777777777777778, \"#fb9f3a\"], [0.8888888888888888, \"#fdca26\"], [1.0, \"#f0f921\"]]}, \"colorway\": [\"#636efa\", \"#EF553B\", \"#00cc96\", \"#ab63fa\", \"#FFA15A\", \"#19d3f3\", \"#FF6692\", \"#B6E880\", \"#FF97FF\", \"#FECB52\"], \"font\": {\"color\": \"#2a3f5f\"}, \"geo\": {\"bgcolor\": \"white\", \"lakecolor\": \"white\", \"landcolor\": \"#E5ECF6\", \"showlakes\": true, \"showland\": true, \"subunitcolor\": \"white\"}, \"hoverlabel\": {\"align\": \"left\"}, \"hovermode\": \"closest\", \"mapbox\": {\"style\": \"light\"}, \"paper_bgcolor\": \"white\", \"plot_bgcolor\": \"#E5ECF6\", \"polar\": {\"angularaxis\": {\"gridcolor\": \"white\", \"linecolor\": \"white\", \"ticks\": \"\"}, \"bgcolor\": \"#E5ECF6\", \"radialaxis\": {\"gridcolor\": \"white\", \"linecolor\": \"white\", \"ticks\": \"\"}}, \"scene\": {\"xaxis\": {\"backgroundcolor\": \"#E5ECF6\", \"gridcolor\": \"white\", \"gridwidth\": 2, \"linecolor\": \"white\", \"showbackground\": true, \"ticks\": \"\", \"zerolinecolor\": \"white\"}, \"yaxis\": {\"backgroundcolor\": \"#E5ECF6\", \"gridcolor\": \"white\", \"gridwidth\": 2, \"linecolor\": \"white\", \"showbackground\": true, \"ticks\": \"\", \"zerolinecolor\": \"white\"}, \"zaxis\": {\"backgroundcolor\": \"#E5ECF6\", \"gridcolor\": \"white\", \"gridwidth\": 2, \"linecolor\": \"white\", \"showbackground\": true, \"ticks\": \"\", \"zerolinecolor\": \"white\"}}, \"shapedefaults\": {\"line\": {\"color\": \"#2a3f5f\"}}, \"ternary\": {\"aaxis\": {\"gridcolor\": \"white\", \"linecolor\": \"white\", \"ticks\": \"\"}, \"baxis\": {\"gridcolor\": \"white\", \"linecolor\": \"white\", \"ticks\": \"\"}, \"bgcolor\": \"#E5ECF6\", \"caxis\": {\"gridcolor\": \"white\", \"linecolor\": \"white\", \"ticks\": \"\"}}, \"title\": {\"x\": 0.05}, \"xaxis\": {\"automargin\": true, \"gridcolor\": \"white\", \"linecolor\": \"white\", \"ticks\": \"\", \"title\": {\"standoff\": 15}, \"zerolinecolor\": \"white\", \"zerolinewidth\": 2}, \"yaxis\": {\"automargin\": true, \"gridcolor\": \"white\", \"linecolor\": \"white\", \"ticks\": \"\", \"title\": {\"standoff\": 15}, \"zerolinecolor\": \"white\", \"zerolinewidth\": 2}}}, \"title\": {\"text\": \"Placement % of mba in each specialisation by gender \", \"x\": 0.5}},\n",
              "                        {\"responsive\": true}\n",
              "                    ).then(function(){\n",
              "                            \n",
              "var gd = document.getElementById('2fcbc900-76cf-4942-9599-4f50192addb8');\n",
              "var x = new MutationObserver(function (mutations, observer) {{\n",
              "        var display = window.getComputedStyle(gd).display;\n",
              "        if (!display || display === 'none') {{\n",
              "            console.log([gd, 'removed!']);\n",
              "            Plotly.purge(gd);\n",
              "            observer.disconnect();\n",
              "        }}\n",
              "}});\n",
              "\n",
              "// Listen for the removal of the full notebook cells\n",
              "var notebookContainer = gd.closest('#notebook-container');\n",
              "if (notebookContainer) {{\n",
              "    x.observe(notebookContainer, {childList: true});\n",
              "}}\n",
              "\n",
              "// Listen for the clearing of the current output cell\n",
              "var outputEl = gd.closest('.output');\n",
              "if (outputEl) {{\n",
              "    x.observe(outputEl, {childList: true});\n",
              "}}\n",
              "\n",
              "                        })\n",
              "                };\n",
              "                \n",
              "            </script>\n",
              "        </div>\n",
              "</body>\n",
              "</html>"
            ]
          },
          "metadata": {
            "tags": []
          }
        }
      ]
    },
    {
      "cell_type": "markdown",
      "metadata": {
        "id": "ao8-5FZGmNFN",
        "papermill": {
          "duration": 0.022868,
          "end_time": "2020-08-08T12:30:43.215514",
          "exception": false,
          "start_time": "2020-08-08T12:30:43.192646",
          "status": "completed"
        },
        "tags": [],
        "colab_type": "text"
      },
      "source": [
        "# Encoding the categorical data"
      ]
    },
    {
      "cell_type": "code",
      "metadata": {
        "execution": {
          "iopub.execute_input": "2020-08-08T12:30:43.299787Z",
          "iopub.status.busy": "2020-08-08T12:30:43.288207Z",
          "iopub.status.idle": "2020-08-08T12:30:43.313989Z",
          "shell.execute_reply": "2020-08-08T12:30:43.313191Z"
        },
        "id": "_qFdp8jCiScw",
        "papermill": {
          "duration": 0.072824,
          "end_time": "2020-08-08T12:30:43.314129",
          "exception": false,
          "start_time": "2020-08-08T12:30:43.241305",
          "status": "completed"
        },
        "tags": [],
        "colab_type": "code",
        "colab": {
          "base_uri": "https://localhost:8080/",
          "height": 195
        },
        "outputId": "08f31f49-d7c9-4a4e-b241-0937e5255284"
      },
      "source": [
        "df[\"degree_t\"] = df[\"degree_t\"].astype('category')\n",
        "df[\"workex\"] = df[\"workex\"].astype('category')\n",
        "df[\"specialisation\"] = df[\"specialisation\"].astype('category')\n",
        "df[\"status\"] = df[\"status\"].astype('category')\n",
        "df.dtypes\n",
        "df[\"workex\"] = df[\"workex\"].cat.codes\n",
        "df[\"degree_t\"] = df[\"degree_t\"].cat.codes\n",
        "df[\"specialisation\"] = df[\"specialisation\"].cat.codes\n",
        "df[\"status\"] = df[\"status\"].cat.codes\n",
        "df.tail()"
      ],
      "execution_count": 14,
      "outputs": [
        {
          "output_type": "execute_result",
          "data": {
            "text/html": [
              "<div>\n",
              "<style scoped>\n",
              "    .dataframe tbody tr th:only-of-type {\n",
              "        vertical-align: middle;\n",
              "    }\n",
              "\n",
              "    .dataframe tbody tr th {\n",
              "        vertical-align: top;\n",
              "    }\n",
              "\n",
              "    .dataframe thead th {\n",
              "        text-align: right;\n",
              "    }\n",
              "</style>\n",
              "<table border=\"1\" class=\"dataframe\">\n",
              "  <thead>\n",
              "    <tr style=\"text-align: right;\">\n",
              "      <th></th>\n",
              "      <th>sl_no</th>\n",
              "      <th>ssc_p</th>\n",
              "      <th>hsc_p</th>\n",
              "      <th>degree_p</th>\n",
              "      <th>degree_t</th>\n",
              "      <th>workex</th>\n",
              "      <th>etest_p</th>\n",
              "      <th>specialisation</th>\n",
              "      <th>mba_p</th>\n",
              "      <th>status</th>\n",
              "      <th>salary</th>\n",
              "    </tr>\n",
              "  </thead>\n",
              "  <tbody>\n",
              "    <tr>\n",
              "      <th>210</th>\n",
              "      <td>211</td>\n",
              "      <td>80.6</td>\n",
              "      <td>82.0</td>\n",
              "      <td>77.6</td>\n",
              "      <td>0</td>\n",
              "      <td>0</td>\n",
              "      <td>91.0</td>\n",
              "      <td>0</td>\n",
              "      <td>74.49</td>\n",
              "      <td>1</td>\n",
              "      <td>400000.0</td>\n",
              "    </tr>\n",
              "    <tr>\n",
              "      <th>211</th>\n",
              "      <td>212</td>\n",
              "      <td>58.0</td>\n",
              "      <td>60.0</td>\n",
              "      <td>72.0</td>\n",
              "      <td>2</td>\n",
              "      <td>0</td>\n",
              "      <td>74.0</td>\n",
              "      <td>0</td>\n",
              "      <td>53.62</td>\n",
              "      <td>1</td>\n",
              "      <td>275000.0</td>\n",
              "    </tr>\n",
              "    <tr>\n",
              "      <th>212</th>\n",
              "      <td>213</td>\n",
              "      <td>67.0</td>\n",
              "      <td>67.0</td>\n",
              "      <td>73.0</td>\n",
              "      <td>0</td>\n",
              "      <td>1</td>\n",
              "      <td>59.0</td>\n",
              "      <td>0</td>\n",
              "      <td>69.72</td>\n",
              "      <td>1</td>\n",
              "      <td>295000.0</td>\n",
              "    </tr>\n",
              "    <tr>\n",
              "      <th>213</th>\n",
              "      <td>214</td>\n",
              "      <td>74.0</td>\n",
              "      <td>66.0</td>\n",
              "      <td>58.0</td>\n",
              "      <td>0</td>\n",
              "      <td>0</td>\n",
              "      <td>70.0</td>\n",
              "      <td>1</td>\n",
              "      <td>60.23</td>\n",
              "      <td>1</td>\n",
              "      <td>204000.0</td>\n",
              "    </tr>\n",
              "    <tr>\n",
              "      <th>214</th>\n",
              "      <td>215</td>\n",
              "      <td>62.0</td>\n",
              "      <td>58.0</td>\n",
              "      <td>53.0</td>\n",
              "      <td>0</td>\n",
              "      <td>0</td>\n",
              "      <td>89.0</td>\n",
              "      <td>1</td>\n",
              "      <td>60.22</td>\n",
              "      <td>0</td>\n",
              "      <td>NaN</td>\n",
              "    </tr>\n",
              "  </tbody>\n",
              "</table>\n",
              "</div>"
            ],
            "text/plain": [
              "     sl_no  ssc_p  hsc_p  degree_p  ...  specialisation  mba_p  status    salary\n",
              "210    211   80.6   82.0      77.6  ...               0  74.49       1  400000.0\n",
              "211    212   58.0   60.0      72.0  ...               0  53.62       1  275000.0\n",
              "212    213   67.0   67.0      73.0  ...               0  69.72       1  295000.0\n",
              "213    214   74.0   66.0      58.0  ...               1  60.23       1  204000.0\n",
              "214    215   62.0   58.0      53.0  ...               1  60.22       0       NaN\n",
              "\n",
              "[5 rows x 11 columns]"
            ]
          },
          "metadata": {
            "tags": []
          },
          "execution_count": 14
        }
      ]
    },
    {
      "cell_type": "markdown",
      "metadata": {
        "id": "ozIqHFzLJGC3",
        "papermill": {
          "duration": 0.02205,
          "end_time": "2020-08-08T12:30:43.359110",
          "exception": false,
          "start_time": "2020-08-08T12:30:43.337060",
          "status": "completed"
        },
        "tags": [],
        "colab_type": "text"
      },
      "source": [
        "# Classification of placement status"
      ]
    },
    {
      "cell_type": "code",
      "metadata": {
        "execution": {
          "iopub.execute_input": "2020-08-08T12:30:43.410102Z",
          "iopub.status.busy": "2020-08-08T12:30:43.409342Z",
          "iopub.status.idle": "2020-08-08T12:30:43.414306Z",
          "shell.execute_reply": "2020-08-08T12:30:43.413651Z"
        },
        "id": "L_da7lB2Ptnd",
        "papermill": {
          "duration": 0.032815,
          "end_time": "2020-08-08T12:30:43.414454",
          "exception": false,
          "start_time": "2020-08-08T12:30:43.381639",
          "status": "completed"
        },
        "tags": [],
        "colab_type": "code",
        "colab": {}
      },
      "source": [
        "df_class = df.copy()"
      ],
      "execution_count": 15,
      "outputs": []
    },
    {
      "cell_type": "code",
      "metadata": {
        "execution": {
          "iopub.execute_input": "2020-08-08T12:30:43.528354Z",
          "iopub.status.busy": "2020-08-08T12:30:43.527231Z",
          "iopub.status.idle": "2020-08-08T12:30:43.531041Z",
          "shell.execute_reply": "2020-08-08T12:30:43.530225Z"
        },
        "id": "gErtmimROCDJ",
        "papermill": {
          "duration": 0.033996,
          "end_time": "2020-08-08T12:30:43.531195",
          "exception": false,
          "start_time": "2020-08-08T12:30:43.497199",
          "status": "completed"
        },
        "tags": [],
        "colab_type": "code",
        "colab": {}
      },
      "source": [
        "X = df_class.iloc[:,:-2].values\n",
        "y = df_class.iloc[:,-2].values"
      ],
      "execution_count": 16,
      "outputs": []
    },
    {
      "cell_type": "markdown",
      "metadata": {
        "id": "Vp6p7VdmkLHy",
        "papermill": {
          "duration": 0.023075,
          "end_time": "2020-08-08T12:30:43.577305",
          "exception": false,
          "start_time": "2020-08-08T12:30:43.554230",
          "status": "completed"
        },
        "tags": [],
        "colab_type": "text"
      },
      "source": [
        "## Split the dataset"
      ]
    },
    {
      "cell_type": "code",
      "metadata": {
        "execution": {
          "iopub.execute_input": "2020-08-08T12:30:43.629818Z",
          "iopub.status.busy": "2020-08-08T12:30:43.629017Z",
          "iopub.status.idle": "2020-08-08T12:30:43.767576Z",
          "shell.execute_reply": "2020-08-08T12:30:43.766880Z"
        },
        "id": "5NWejVYnOBm4",
        "papermill": {
          "duration": 0.167546,
          "end_time": "2020-08-08T12:30:43.767732",
          "exception": false,
          "start_time": "2020-08-08T12:30:43.600186",
          "status": "completed"
        },
        "tags": [],
        "colab_type": "code",
        "colab": {}
      },
      "source": [
        "from sklearn.model_selection import train_test_split\n",
        "X_train, X_test, y_train, y_test = train_test_split( X, y, test_size=0.15, random_state=0)"
      ],
      "execution_count": 17,
      "outputs": []
    },
    {
      "cell_type": "markdown",
      "metadata": {
        "id": "BudGh0vMkQBX",
        "papermill": {
          "duration": 0.022927,
          "end_time": "2020-08-08T12:30:43.814650",
          "exception": false,
          "start_time": "2020-08-08T12:30:43.791723",
          "status": "completed"
        },
        "tags": [],
        "colab_type": "text"
      },
      "source": [
        "**Train Logistic Regression Model**"
      ]
    },
    {
      "cell_type": "code",
      "metadata": {
        "execution": {
          "iopub.execute_input": "2020-08-08T12:30:43.869281Z",
          "iopub.status.busy": "2020-08-08T12:30:43.868512Z",
          "iopub.status.idle": "2020-08-08T12:30:44.058647Z",
          "shell.execute_reply": "2020-08-08T12:30:44.058010Z"
        },
        "id": "AsjMxD1PnTQ4",
        "papermill": {
          "duration": 0.220868,
          "end_time": "2020-08-08T12:30:44.058804",
          "exception": false,
          "start_time": "2020-08-08T12:30:43.837936",
          "status": "completed"
        },
        "tags": [],
        "colab_type": "code",
        "colab": {}
      },
      "source": [
        "from sklearn.linear_model import LogisticRegression\n",
        "lg_classifier = LogisticRegression(random_state=0,max_iter=1000)\n",
        "lg_classifier.fit(X_train, y_train)\n",
        "y_pred_lgclass = lg_classifier.predict(X_test)"
      ],
      "execution_count": 18,
      "outputs": []
    },
    {
      "cell_type": "markdown",
      "metadata": {
        "id": "in0SN6lykWGV",
        "papermill": {
          "duration": 0.022695,
          "end_time": "2020-08-08T12:30:44.104922",
          "exception": false,
          "start_time": "2020-08-08T12:30:44.082227",
          "status": "completed"
        },
        "tags": [],
        "colab_type": "text"
      },
      "source": [
        "## Train Random Forest Classifier"
      ]
    },
    {
      "cell_type": "code",
      "metadata": {
        "execution": {
          "iopub.execute_input": "2020-08-08T12:30:44.159644Z",
          "iopub.status.busy": "2020-08-08T12:30:44.158865Z",
          "iopub.status.idle": "2020-08-08T12:30:44.544728Z",
          "shell.execute_reply": "2020-08-08T12:30:44.543950Z"
        },
        "id": "oBEs1olqKhn-",
        "papermill": {
          "duration": 0.41631,
          "end_time": "2020-08-08T12:30:44.544898",
          "exception": false,
          "start_time": "2020-08-08T12:30:44.128588",
          "status": "completed"
        },
        "tags": [],
        "colab_type": "code",
        "colab": {}
      },
      "source": [
        "from sklearn.ensemble import RandomForestClassifier\n",
        "rf_classifier = RandomForestClassifier(n_estimators=100,criterion=\"entropy\")\n",
        "rf_classifier.fit(X_train, y_train)\n",
        "y_pred_rfclass = rf_classifier.predict(X_test)"
      ],
      "execution_count": 19,
      "outputs": []
    },
    {
      "cell_type": "code",
      "metadata": {
        "execution": {
          "iopub.execute_input": "2020-08-08T12:30:44.601052Z",
          "iopub.status.busy": "2020-08-08T12:30:44.600025Z",
          "iopub.status.idle": "2020-08-08T12:30:44.605689Z",
          "shell.execute_reply": "2020-08-08T12:30:44.604991Z"
        },
        "id": "PBM4HQLMNovp",
        "papermill": {
          "duration": 0.037598,
          "end_time": "2020-08-08T12:30:44.605903",
          "exception": false,
          "start_time": "2020-08-08T12:30:44.568305",
          "status": "completed"
        },
        "tags": [],
        "colab_type": "code",
        "colab": {
          "base_uri": "https://localhost:8080/",
          "height": 571
        },
        "outputId": "54cf2813-e844-47cd-ffae-7ed70a313d0d"
      },
      "source": [
        "print(np.concatenate((y_pred_rfclass.reshape(len(y_pred_rfclass),1), y_test.reshape(len(y_test),1)),1))"
      ],
      "execution_count": 20,
      "outputs": [
        {
          "output_type": "stream",
          "text": [
            "[[1 0]\n",
            " [1 1]\n",
            " [1 1]\n",
            " [0 0]\n",
            " [1 1]\n",
            " [1 0]\n",
            " [1 1]\n",
            " [1 1]\n",
            " [0 0]\n",
            " [1 1]\n",
            " [1 1]\n",
            " [1 1]\n",
            " [1 1]\n",
            " [1 1]\n",
            " [0 1]\n",
            " [0 1]\n",
            " [1 1]\n",
            " [0 0]\n",
            " [0 1]\n",
            " [1 0]\n",
            " [0 0]\n",
            " [1 0]\n",
            " [1 1]\n",
            " [1 0]\n",
            " [0 0]\n",
            " [1 0]\n",
            " [1 1]\n",
            " [1 1]\n",
            " [1 1]\n",
            " [1 1]\n",
            " [1 1]\n",
            " [1 0]\n",
            " [1 1]]\n"
          ],
          "name": "stdout"
        }
      ]
    },
    {
      "cell_type": "markdown",
      "metadata": {
        "id": "QbhKgDCVkczs",
        "papermill": {
          "duration": 0.022826,
          "end_time": "2020-08-08T12:30:44.652279",
          "exception": false,
          "start_time": "2020-08-08T12:30:44.629453",
          "status": "completed"
        },
        "tags": [],
        "colab_type": "text"
      },
      "source": [
        "***Accuracy/Confusion matrix***"
      ]
    },
    {
      "cell_type": "code",
      "metadata": {
        "execution": {
          "iopub.execute_input": "2020-08-08T12:30:44.707442Z",
          "iopub.status.busy": "2020-08-08T12:30:44.706498Z",
          "iopub.status.idle": "2020-08-08T12:30:44.712651Z",
          "shell.execute_reply": "2020-08-08T12:30:44.711839Z"
        },
        "id": "5BSzf2A0LnVZ",
        "papermill": {
          "duration": 0.036901,
          "end_time": "2020-08-08T12:30:44.712789",
          "exception": false,
          "start_time": "2020-08-08T12:30:44.675888",
          "status": "completed"
        },
        "tags": [],
        "colab_type": "code",
        "colab": {
          "base_uri": "https://localhost:8080/",
          "height": 67
        },
        "outputId": "67ba1bc4-689b-4e99-9e22-e9bcd99bd3a8"
      },
      "source": [
        "from sklearn.metrics import confusion_matrix, accuracy_score\n",
        "cm = confusion_matrix(y_test, y_pred_rfclass)\n",
        "print(cm)\n",
        "print(\"random forest accuracy: {:2.2f}%\" .format(accuracy_score(y_test, y_pred_rfclass) * 100) )"
      ],
      "execution_count": 21,
      "outputs": [
        {
          "output_type": "stream",
          "text": [
            "[[ 5  7]\n",
            " [ 3 18]]\n",
            "random forest accuracy: 69.70%\n"
          ],
          "name": "stdout"
        }
      ]
    },
    {
      "cell_type": "code",
      "metadata": {
        "execution": {
          "iopub.execute_input": "2020-08-08T12:30:44.768480Z",
          "iopub.status.busy": "2020-08-08T12:30:44.767280Z",
          "iopub.status.idle": "2020-08-08T12:30:44.772324Z",
          "shell.execute_reply": "2020-08-08T12:30:44.772953Z"
        },
        "id": "0VShTFfTL1QQ",
        "papermill": {
          "duration": 0.036706,
          "end_time": "2020-08-08T12:30:44.773127",
          "exception": false,
          "start_time": "2020-08-08T12:30:44.736421",
          "status": "completed"
        },
        "tags": [],
        "colab_type": "code",
        "colab": {
          "base_uri": "https://localhost:8080/",
          "height": 67
        },
        "outputId": "613bc9a9-e2b0-4282-fd42-03a4e46ceeea"
      },
      "source": [
        "cm = confusion_matrix(y_test, y_pred_lgclass)\n",
        "print(cm)\n",
        "print(\"Logistic regressor accuracy: {:2.2f}%\" .format(accuracy_score(y_test, y_pred_lgclass)*100) )"
      ],
      "execution_count": 22,
      "outputs": [
        {
          "output_type": "stream",
          "text": [
            "[[ 7  5]\n",
            " [ 3 18]]\n",
            "Logistic regressor accuracy: 75.76%\n"
          ],
          "name": "stdout"
        }
      ]
    },
    {
      "cell_type": "markdown",
      "metadata": {
        "id": "B2GgcZQyrpmK",
        "papermill": {
          "duration": 0.022997,
          "end_time": "2020-08-08T12:30:44.819541",
          "exception": false,
          "start_time": "2020-08-08T12:30:44.796544",
          "status": "completed"
        },
        "tags": [],
        "colab_type": "text"
      },
      "source": [
        "## Pre processing data"
      ]
    },
    {
      "cell_type": "code",
      "metadata": {
        "execution": {
          "iopub.execute_input": "2020-08-08T12:30:44.900685Z",
          "iopub.status.busy": "2020-08-08T12:30:44.899653Z",
          "iopub.status.idle": "2020-08-08T12:30:44.905081Z",
          "shell.execute_reply": "2020-08-08T12:30:44.904443Z"
        },
        "id": "gZ_8WWZaDbxy",
        "papermill": {
          "duration": 0.062257,
          "end_time": "2020-08-08T12:30:44.905233",
          "exception": false,
          "start_time": "2020-08-08T12:30:44.842976",
          "status": "completed"
        },
        "tags": [],
        "colab_type": "code",
        "colab": {
          "base_uri": "https://localhost:8080/",
          "height": 402
        },
        "outputId": "2f9d8b9c-5396-4dec-9572-48562f4ff31e"
      },
      "source": [
        "df.dropna(inplace=True)\n",
        "df"
      ],
      "execution_count": 23,
      "outputs": [
        {
          "output_type": "execute_result",
          "data": {
            "text/html": [
              "<div>\n",
              "<style scoped>\n",
              "    .dataframe tbody tr th:only-of-type {\n",
              "        vertical-align: middle;\n",
              "    }\n",
              "\n",
              "    .dataframe tbody tr th {\n",
              "        vertical-align: top;\n",
              "    }\n",
              "\n",
              "    .dataframe thead th {\n",
              "        text-align: right;\n",
              "    }\n",
              "</style>\n",
              "<table border=\"1\" class=\"dataframe\">\n",
              "  <thead>\n",
              "    <tr style=\"text-align: right;\">\n",
              "      <th></th>\n",
              "      <th>sl_no</th>\n",
              "      <th>ssc_p</th>\n",
              "      <th>hsc_p</th>\n",
              "      <th>degree_p</th>\n",
              "      <th>degree_t</th>\n",
              "      <th>workex</th>\n",
              "      <th>etest_p</th>\n",
              "      <th>specialisation</th>\n",
              "      <th>mba_p</th>\n",
              "      <th>status</th>\n",
              "      <th>salary</th>\n",
              "    </tr>\n",
              "  </thead>\n",
              "  <tbody>\n",
              "    <tr>\n",
              "      <th>0</th>\n",
              "      <td>1</td>\n",
              "      <td>67.00</td>\n",
              "      <td>91.00</td>\n",
              "      <td>58.00</td>\n",
              "      <td>2</td>\n",
              "      <td>0</td>\n",
              "      <td>55.0</td>\n",
              "      <td>1</td>\n",
              "      <td>58.80</td>\n",
              "      <td>1</td>\n",
              "      <td>270000.0</td>\n",
              "    </tr>\n",
              "    <tr>\n",
              "      <th>1</th>\n",
              "      <td>2</td>\n",
              "      <td>79.33</td>\n",
              "      <td>78.33</td>\n",
              "      <td>77.48</td>\n",
              "      <td>2</td>\n",
              "      <td>1</td>\n",
              "      <td>86.5</td>\n",
              "      <td>0</td>\n",
              "      <td>66.28</td>\n",
              "      <td>1</td>\n",
              "      <td>200000.0</td>\n",
              "    </tr>\n",
              "    <tr>\n",
              "      <th>2</th>\n",
              "      <td>3</td>\n",
              "      <td>65.00</td>\n",
              "      <td>68.00</td>\n",
              "      <td>64.00</td>\n",
              "      <td>0</td>\n",
              "      <td>0</td>\n",
              "      <td>75.0</td>\n",
              "      <td>0</td>\n",
              "      <td>57.80</td>\n",
              "      <td>1</td>\n",
              "      <td>250000.0</td>\n",
              "    </tr>\n",
              "    <tr>\n",
              "      <th>4</th>\n",
              "      <td>5</td>\n",
              "      <td>85.80</td>\n",
              "      <td>73.60</td>\n",
              "      <td>73.30</td>\n",
              "      <td>0</td>\n",
              "      <td>0</td>\n",
              "      <td>96.8</td>\n",
              "      <td>0</td>\n",
              "      <td>55.50</td>\n",
              "      <td>1</td>\n",
              "      <td>425000.0</td>\n",
              "    </tr>\n",
              "    <tr>\n",
              "      <th>7</th>\n",
              "      <td>8</td>\n",
              "      <td>82.00</td>\n",
              "      <td>64.00</td>\n",
              "      <td>66.00</td>\n",
              "      <td>2</td>\n",
              "      <td>1</td>\n",
              "      <td>67.0</td>\n",
              "      <td>0</td>\n",
              "      <td>62.14</td>\n",
              "      <td>1</td>\n",
              "      <td>252000.0</td>\n",
              "    </tr>\n",
              "    <tr>\n",
              "      <th>...</th>\n",
              "      <td>...</td>\n",
              "      <td>...</td>\n",
              "      <td>...</td>\n",
              "      <td>...</td>\n",
              "      <td>...</td>\n",
              "      <td>...</td>\n",
              "      <td>...</td>\n",
              "      <td>...</td>\n",
              "      <td>...</td>\n",
              "      <td>...</td>\n",
              "      <td>...</td>\n",
              "    </tr>\n",
              "    <tr>\n",
              "      <th>209</th>\n",
              "      <td>210</td>\n",
              "      <td>62.00</td>\n",
              "      <td>72.00</td>\n",
              "      <td>65.00</td>\n",
              "      <td>0</td>\n",
              "      <td>0</td>\n",
              "      <td>67.0</td>\n",
              "      <td>0</td>\n",
              "      <td>56.49</td>\n",
              "      <td>1</td>\n",
              "      <td>216000.0</td>\n",
              "    </tr>\n",
              "    <tr>\n",
              "      <th>210</th>\n",
              "      <td>211</td>\n",
              "      <td>80.60</td>\n",
              "      <td>82.00</td>\n",
              "      <td>77.60</td>\n",
              "      <td>0</td>\n",
              "      <td>0</td>\n",
              "      <td>91.0</td>\n",
              "      <td>0</td>\n",
              "      <td>74.49</td>\n",
              "      <td>1</td>\n",
              "      <td>400000.0</td>\n",
              "    </tr>\n",
              "    <tr>\n",
              "      <th>211</th>\n",
              "      <td>212</td>\n",
              "      <td>58.00</td>\n",
              "      <td>60.00</td>\n",
              "      <td>72.00</td>\n",
              "      <td>2</td>\n",
              "      <td>0</td>\n",
              "      <td>74.0</td>\n",
              "      <td>0</td>\n",
              "      <td>53.62</td>\n",
              "      <td>1</td>\n",
              "      <td>275000.0</td>\n",
              "    </tr>\n",
              "    <tr>\n",
              "      <th>212</th>\n",
              "      <td>213</td>\n",
              "      <td>67.00</td>\n",
              "      <td>67.00</td>\n",
              "      <td>73.00</td>\n",
              "      <td>0</td>\n",
              "      <td>1</td>\n",
              "      <td>59.0</td>\n",
              "      <td>0</td>\n",
              "      <td>69.72</td>\n",
              "      <td>1</td>\n",
              "      <td>295000.0</td>\n",
              "    </tr>\n",
              "    <tr>\n",
              "      <th>213</th>\n",
              "      <td>214</td>\n",
              "      <td>74.00</td>\n",
              "      <td>66.00</td>\n",
              "      <td>58.00</td>\n",
              "      <td>0</td>\n",
              "      <td>0</td>\n",
              "      <td>70.0</td>\n",
              "      <td>1</td>\n",
              "      <td>60.23</td>\n",
              "      <td>1</td>\n",
              "      <td>204000.0</td>\n",
              "    </tr>\n",
              "  </tbody>\n",
              "</table>\n",
              "<p>148 rows × 11 columns</p>\n",
              "</div>"
            ],
            "text/plain": [
              "     sl_no  ssc_p  hsc_p  degree_p  ...  specialisation  mba_p  status    salary\n",
              "0        1  67.00  91.00     58.00  ...               1  58.80       1  270000.0\n",
              "1        2  79.33  78.33     77.48  ...               0  66.28       1  200000.0\n",
              "2        3  65.00  68.00     64.00  ...               0  57.80       1  250000.0\n",
              "4        5  85.80  73.60     73.30  ...               0  55.50       1  425000.0\n",
              "7        8  82.00  64.00     66.00  ...               0  62.14       1  252000.0\n",
              "..     ...    ...    ...       ...  ...             ...    ...     ...       ...\n",
              "209    210  62.00  72.00     65.00  ...               0  56.49       1  216000.0\n",
              "210    211  80.60  82.00     77.60  ...               0  74.49       1  400000.0\n",
              "211    212  58.00  60.00     72.00  ...               0  53.62       1  275000.0\n",
              "212    213  67.00  67.00     73.00  ...               0  69.72       1  295000.0\n",
              "213    214  74.00  66.00     58.00  ...               1  60.23       1  204000.0\n",
              "\n",
              "[148 rows x 11 columns]"
            ]
          },
          "metadata": {
            "tags": []
          },
          "execution_count": 23
        }
      ]
    },
    {
      "cell_type": "markdown",
      "metadata": {
        "id": "Fcaeq2QXreed",
        "papermill": {
          "duration": 0.024225,
          "end_time": "2020-08-08T12:30:44.953838",
          "exception": false,
          "start_time": "2020-08-08T12:30:44.929613",
          "status": "completed"
        },
        "tags": [],
        "colab_type": "text"
      },
      "source": [
        "**Skewness of salary plot**"
      ]
    },
    {
      "cell_type": "code",
      "metadata": {
        "execution": {
          "iopub.execute_input": "2020-08-08T12:30:45.023220Z",
          "iopub.status.busy": "2020-08-08T12:30:45.020529Z",
          "iopub.status.idle": "2020-08-08T12:30:45.335894Z",
          "shell.execute_reply": "2020-08-08T12:30:45.335058Z"
        },
        "id": "ugpe5u13kKoE",
        "papermill": {
          "duration": 0.357573,
          "end_time": "2020-08-08T12:30:45.336032",
          "exception": false,
          "start_time": "2020-08-08T12:30:44.978459",
          "status": "completed"
        },
        "tags": [],
        "colab_type": "code",
        "colab": {
          "base_uri": "https://localhost:8080/",
          "height": 289
        },
        "outputId": "3d3cf8c8-7d1f-41b2-9166-00b15fbd9127"
      },
      "source": [
        "#PDF of Salary\n",
        "sns.kdeplot(df[\"salary\"])\n",
        "plt.show()"
      ],
      "execution_count": 24,
      "outputs": [
        {
          "output_type": "display_data",
          "data": {
            "image/png": "[encoded data removed]",
            "text/plain": [
              "<Figure size 432x288 with 1 Axes>"
            ]
          },
          "metadata": {
            "tags": [],
            "needs_background": "light"
          }
        }
      ]
    },
    {
      "cell_type": "code",
      "metadata": {
        "execution": {
          "iopub.execute_input": "2020-08-08T12:30:45.418338Z",
          "iopub.status.busy": "2020-08-08T12:30:45.412496Z",
          "iopub.status.idle": "2020-08-08T12:30:45.427641Z",
          "shell.execute_reply": "2020-08-08T12:30:45.426953Z"
        },
        "id": "CbEuHjONo2On",
        "papermill": {
          "duration": 0.065604,
          "end_time": "2020-08-08T12:30:45.427789",
          "exception": false,
          "start_time": "2020-08-08T12:30:45.362185",
          "status": "completed"
        },
        "tags": [],
        "colab_type": "code",
        "colab": {
          "base_uri": "https://localhost:8080/",
          "height": 402
        },
        "outputId": "f25603d2-cf11-4b9f-e46d-08c765f3f45f"
      },
      "source": [
        "df = df[df[\"salary\"]<350000.0]\n",
        "df"
      ],
      "execution_count": 25,
      "outputs": [
        {
          "output_type": "execute_result",
          "data": {
            "text/html": [
              "<div>\n",
              "<style scoped>\n",
              "    .dataframe tbody tr th:only-of-type {\n",
              "        vertical-align: middle;\n",
              "    }\n",
              "\n",
              "    .dataframe tbody tr th {\n",
              "        vertical-align: top;\n",
              "    }\n",
              "\n",
              "    .dataframe thead th {\n",
              "        text-align: right;\n",
              "    }\n",
              "</style>\n",
              "<table border=\"1\" class=\"dataframe\">\n",
              "  <thead>\n",
              "    <tr style=\"text-align: right;\">\n",
              "      <th></th>\n",
              "      <th>sl_no</th>\n",
              "      <th>ssc_p</th>\n",
              "      <th>hsc_p</th>\n",
              "      <th>degree_p</th>\n",
              "      <th>degree_t</th>\n",
              "      <th>workex</th>\n",
              "      <th>etest_p</th>\n",
              "      <th>specialisation</th>\n",
              "      <th>mba_p</th>\n",
              "      <th>status</th>\n",
              "      <th>salary</th>\n",
              "    </tr>\n",
              "  </thead>\n",
              "  <tbody>\n",
              "    <tr>\n",
              "      <th>0</th>\n",
              "      <td>1</td>\n",
              "      <td>67.00</td>\n",
              "      <td>91.00</td>\n",
              "      <td>58.00</td>\n",
              "      <td>2</td>\n",
              "      <td>0</td>\n",
              "      <td>55.00</td>\n",
              "      <td>1</td>\n",
              "      <td>58.80</td>\n",
              "      <td>1</td>\n",
              "      <td>270000.0</td>\n",
              "    </tr>\n",
              "    <tr>\n",
              "      <th>1</th>\n",
              "      <td>2</td>\n",
              "      <td>79.33</td>\n",
              "      <td>78.33</td>\n",
              "      <td>77.48</td>\n",
              "      <td>2</td>\n",
              "      <td>1</td>\n",
              "      <td>86.50</td>\n",
              "      <td>0</td>\n",
              "      <td>66.28</td>\n",
              "      <td>1</td>\n",
              "      <td>200000.0</td>\n",
              "    </tr>\n",
              "    <tr>\n",
              "      <th>2</th>\n",
              "      <td>3</td>\n",
              "      <td>65.00</td>\n",
              "      <td>68.00</td>\n",
              "      <td>64.00</td>\n",
              "      <td>0</td>\n",
              "      <td>0</td>\n",
              "      <td>75.00</td>\n",
              "      <td>0</td>\n",
              "      <td>57.80</td>\n",
              "      <td>1</td>\n",
              "      <td>250000.0</td>\n",
              "    </tr>\n",
              "    <tr>\n",
              "      <th>7</th>\n",
              "      <td>8</td>\n",
              "      <td>82.00</td>\n",
              "      <td>64.00</td>\n",
              "      <td>66.00</td>\n",
              "      <td>2</td>\n",
              "      <td>1</td>\n",
              "      <td>67.00</td>\n",
              "      <td>0</td>\n",
              "      <td>62.14</td>\n",
              "      <td>1</td>\n",
              "      <td>252000.0</td>\n",
              "    </tr>\n",
              "    <tr>\n",
              "      <th>8</th>\n",
              "      <td>9</td>\n",
              "      <td>73.00</td>\n",
              "      <td>79.00</td>\n",
              "      <td>72.00</td>\n",
              "      <td>0</td>\n",
              "      <td>0</td>\n",
              "      <td>91.34</td>\n",
              "      <td>0</td>\n",
              "      <td>61.29</td>\n",
              "      <td>1</td>\n",
              "      <td>231000.0</td>\n",
              "    </tr>\n",
              "    <tr>\n",
              "      <th>...</th>\n",
              "      <td>...</td>\n",
              "      <td>...</td>\n",
              "      <td>...</td>\n",
              "      <td>...</td>\n",
              "      <td>...</td>\n",
              "      <td>...</td>\n",
              "      <td>...</td>\n",
              "      <td>...</td>\n",
              "      <td>...</td>\n",
              "      <td>...</td>\n",
              "      <td>...</td>\n",
              "    </tr>\n",
              "    <tr>\n",
              "      <th>207</th>\n",
              "      <td>208</td>\n",
              "      <td>83.33</td>\n",
              "      <td>78.00</td>\n",
              "      <td>61.00</td>\n",
              "      <td>0</td>\n",
              "      <td>1</td>\n",
              "      <td>88.56</td>\n",
              "      <td>0</td>\n",
              "      <td>71.55</td>\n",
              "      <td>1</td>\n",
              "      <td>300000.0</td>\n",
              "    </tr>\n",
              "    <tr>\n",
              "      <th>209</th>\n",
              "      <td>210</td>\n",
              "      <td>62.00</td>\n",
              "      <td>72.00</td>\n",
              "      <td>65.00</td>\n",
              "      <td>0</td>\n",
              "      <td>0</td>\n",
              "      <td>67.00</td>\n",
              "      <td>0</td>\n",
              "      <td>56.49</td>\n",
              "      <td>1</td>\n",
              "      <td>216000.0</td>\n",
              "    </tr>\n",
              "    <tr>\n",
              "      <th>211</th>\n",
              "      <td>212</td>\n",
              "      <td>58.00</td>\n",
              "      <td>60.00</td>\n",
              "      <td>72.00</td>\n",
              "      <td>2</td>\n",
              "      <td>0</td>\n",
              "      <td>74.00</td>\n",
              "      <td>0</td>\n",
              "      <td>53.62</td>\n",
              "      <td>1</td>\n",
              "      <td>275000.0</td>\n",
              "    </tr>\n",
              "    <tr>\n",
              "      <th>212</th>\n",
              "      <td>213</td>\n",
              "      <td>67.00</td>\n",
              "      <td>67.00</td>\n",
              "      <td>73.00</td>\n",
              "      <td>0</td>\n",
              "      <td>1</td>\n",
              "      <td>59.00</td>\n",
              "      <td>0</td>\n",
              "      <td>69.72</td>\n",
              "      <td>1</td>\n",
              "      <td>295000.0</td>\n",
              "    </tr>\n",
              "    <tr>\n",
              "      <th>213</th>\n",
              "      <td>214</td>\n",
              "      <td>74.00</td>\n",
              "      <td>66.00</td>\n",
              "      <td>58.00</td>\n",
              "      <td>0</td>\n",
              "      <td>0</td>\n",
              "      <td>70.00</td>\n",
              "      <td>1</td>\n",
              "      <td>60.23</td>\n",
              "      <td>1</td>\n",
              "      <td>204000.0</td>\n",
              "    </tr>\n",
              "  </tbody>\n",
              "</table>\n",
              "<p>123 rows × 11 columns</p>\n",
              "</div>"
            ],
            "text/plain": [
              "     sl_no  ssc_p  hsc_p  degree_p  ...  specialisation  mba_p  status    salary\n",
              "0        1  67.00  91.00     58.00  ...               1  58.80       1  270000.0\n",
              "1        2  79.33  78.33     77.48  ...               0  66.28       1  200000.0\n",
              "2        3  65.00  68.00     64.00  ...               0  57.80       1  250000.0\n",
              "7        8  82.00  64.00     66.00  ...               0  62.14       1  252000.0\n",
              "8        9  73.00  79.00     72.00  ...               0  61.29       1  231000.0\n",
              "..     ...    ...    ...       ...  ...             ...    ...     ...       ...\n",
              "207    208  83.33  78.00     61.00  ...               0  71.55       1  300000.0\n",
              "209    210  62.00  72.00     65.00  ...               0  56.49       1  216000.0\n",
              "211    212  58.00  60.00     72.00  ...               0  53.62       1  275000.0\n",
              "212    213  67.00  67.00     73.00  ...               0  69.72       1  295000.0\n",
              "213    214  74.00  66.00     58.00  ...               1  60.23       1  204000.0\n",
              "\n",
              "[123 rows x 11 columns]"
            ]
          },
          "metadata": {
            "tags": []
          },
          "execution_count": 25
        }
      ]
    },
    {
      "cell_type": "code",
      "metadata": {
        "execution": {
          "iopub.execute_input": "2020-08-08T12:30:45.490897Z",
          "iopub.status.busy": "2020-08-08T12:30:45.489336Z",
          "iopub.status.idle": "2020-08-08T12:30:45.796504Z",
          "shell.execute_reply": "2020-08-08T12:30:45.795761Z"
        },
        "id": "fNMNvagZIh-d",
        "papermill": {
          "duration": 0.343541,
          "end_time": "2020-08-08T12:30:45.796657",
          "exception": false,
          "start_time": "2020-08-08T12:30:45.453116",
          "status": "completed"
        },
        "tags": [],
        "colab_type": "code",
        "colab": {
          "base_uri": "https://localhost:8080/",
          "height": 276
        },
        "outputId": "7951688d-0984-4c7c-e991-0f22980671ee"
      },
      "source": [
        "sns.kdeplot(df[\"salary\"])\n",
        "plt.show()"
      ],
      "execution_count": 26,
      "outputs": [
        {
          "output_type": "display_data",
          "data": {
            "image/png": "[encoded data removed]",
            "text/plain": [
              "<Figure size 432x288 with 1 Axes>"
            ]
          },
          "metadata": {
            "tags": [],
            "needs_background": "light"
          }
        }
      ]
    },
    {
      "cell_type": "code",
      "metadata": {
        "execution": {
          "iopub.execute_input": "2020-08-08T12:30:45.856226Z",
          "iopub.status.busy": "2020-08-08T12:30:45.855404Z",
          "iopub.status.idle": "2020-08-08T12:30:45.859119Z",
          "shell.execute_reply": "2020-08-08T12:30:45.858293Z"
        },
        "id": "-qLLCYRxmT3Y",
        "papermill": {
          "duration": 0.03709,
          "end_time": "2020-08-08T12:30:45.859304",
          "exception": false,
          "start_time": "2020-08-08T12:30:45.822214",
          "status": "completed"
        },
        "tags": [],
        "colab_type": "code",
        "colab": {}
      },
      "source": [
        "#select the features of regression model\n",
        "X = df.iloc[:,:-2].values\n",
        "y = df.iloc[:,-1].values"
      ],
      "execution_count": 27,
      "outputs": []
    },
    {
      "cell_type": "markdown",
      "metadata": {
        "id": "xDVBCq7OjjiI",
        "papermill": {
          "duration": 0.024765,
          "end_time": "2020-08-08T12:30:45.909555",
          "exception": false,
          "start_time": "2020-08-08T12:30:45.884790",
          "status": "completed"
        },
        "tags": [],
        "colab_type": "text"
      },
      "source": [
        "# Build regression model"
      ]
    },
    {
      "cell_type": "code",
      "metadata": {
        "execution": {
          "iopub.execute_input": "2020-08-08T12:30:45.968173Z",
          "iopub.status.busy": "2020-08-08T12:30:45.967222Z",
          "iopub.status.idle": "2020-08-08T12:30:45.971396Z",
          "shell.execute_reply": "2020-08-08T12:30:45.970471Z"
        },
        "id": "wp2HNYIbjndy",
        "papermill": {
          "duration": 0.03679,
          "end_time": "2020-08-08T12:30:45.971553",
          "exception": false,
          "start_time": "2020-08-08T12:30:45.934763",
          "status": "completed"
        },
        "tags": [],
        "colab_type": "code",
        "colab": {}
      },
      "source": [
        "#splitting into training and test set\n",
        "from sklearn.model_selection import train_test_split\n",
        "X_train, X_test, y_train, y_test = train_test_split( X, y, test_size=0.2, random_state=0)"
      ],
      "execution_count": 28,
      "outputs": []
    },
    {
      "cell_type": "code",
      "metadata": {
        "execution": {
          "iopub.execute_input": "2020-08-08T12:30:46.036757Z",
          "iopub.status.busy": "2020-08-08T12:30:46.035475Z",
          "iopub.status.idle": "2020-08-08T12:30:46.046185Z",
          "shell.execute_reply": "2020-08-08T12:30:46.045280Z"
        },
        "id": "QlEZ5wju-ijI",
        "papermill": {
          "duration": 0.048779,
          "end_time": "2020-08-08T12:30:46.046340",
          "exception": false,
          "start_time": "2020-08-08T12:30:45.997561",
          "status": "completed"
        },
        "tags": [],
        "colab_type": "code",
        "colab": {
          "base_uri": "https://localhost:8080/",
          "height": 84
        },
        "outputId": "58c97c08-a3ec-40ad-a713-83f2d399d61c"
      },
      "source": [
        "y_test"
      ],
      "execution_count": 29,
      "outputs": [
        {
          "output_type": "execute_result",
          "data": {
            "text/plain": [
              "array([300000., 240000., 236000., 240000., 200000., 240000., 300000.,\n",
              "       218000., 250000., 340000., 240000., 250000., 300000., 300000.,\n",
              "       250000., 240000., 270000., 204000., 204000., 268000., 250000.,\n",
              "       300000., 300000., 278000., 250000.])"
            ]
          },
          "metadata": {
            "tags": []
          },
          "execution_count": 29
        }
      ]
    },
    {
      "cell_type": "code",
      "metadata": {
        "execution": {
          "iopub.execute_input": "2020-08-08T12:30:46.156144Z",
          "iopub.status.busy": "2020-08-08T12:30:46.155047Z",
          "iopub.status.idle": "2020-08-08T12:30:46.165393Z",
          "shell.execute_reply": "2020-08-08T12:30:46.164692Z"
        },
        "id": "NEg3PcUuetBv",
        "papermill": {
          "duration": 0.09332,
          "end_time": "2020-08-08T12:30:46.165557",
          "exception": false,
          "start_time": "2020-08-08T12:30:46.072237",
          "status": "completed"
        },
        "tags": [],
        "colab_type": "code",
        "colab": {
          "base_uri": "https://localhost:8080/",
          "height": 437
        },
        "outputId": "bda3755a-36a0-4c13-d7e3-16f2e2113577"
      },
      "source": [
        "from sklearn.linear_model import LinearRegression\n",
        "regressor = LinearRegression()\n",
        "regressor.fit(X_train, y_train)\n",
        "y_pred_m = regressor.predict(X_test)\n",
        "np.set_printoptions(precision=2)\n",
        "print(np.concatenate((y_pred_m.reshape(len(y_pred_m),1), y_test.reshape(len(y_test),1)),1))"
      ],
      "execution_count": 30,
      "outputs": [
        {
          "output_type": "stream",
          "text": [
            "[[254735.42 300000.  ]\n",
            " [264522.38 240000.  ]\n",
            " [252505.82 236000.  ]\n",
            " [253355.43 240000.  ]\n",
            " [259259.54 200000.  ]\n",
            " [253543.56 240000.  ]\n",
            " [250599.53 300000.  ]\n",
            " [257033.26 218000.  ]\n",
            " [252007.54 250000.  ]\n",
            " [271450.24 340000.  ]\n",
            " [257381.2  240000.  ]\n",
            " [268665.6  250000.  ]\n",
            " [252640.97 300000.  ]\n",
            " [265377.05 300000.  ]\n",
            " [252008.59 250000.  ]\n",
            " [251791.68 240000.  ]\n",
            " [252260.64 270000.  ]\n",
            " [266974.8  204000.  ]\n",
            " [258119.18 204000.  ]\n",
            " [251009.64 268000.  ]\n",
            " [268208.99 250000.  ]\n",
            " [258249.35 300000.  ]\n",
            " [257664.86 300000.  ]\n",
            " [246049.1  278000.  ]\n",
            " [257683.46 250000.  ]]\n"
          ],
          "name": "stdout"
        }
      ]
    },
    {
      "cell_type": "code",
      "metadata": {
        "execution": {
          "iopub.execute_input": "2020-08-08T12:30:46.241034Z",
          "iopub.status.busy": "2020-08-08T12:30:46.230409Z",
          "iopub.status.idle": "2020-08-08T12:30:46.274663Z",
          "shell.execute_reply": "2020-08-08T12:30:46.273984Z"
        },
        "id": "6yE4tplue4nI",
        "papermill": {
          "duration": 0.082741,
          "end_time": "2020-08-08T12:30:46.274840",
          "exception": false,
          "start_time": "2020-08-08T12:30:46.192099",
          "status": "completed"
        },
        "tags": [],
        "colab_type": "code",
        "colab": {
          "base_uri": "https://localhost:8080/",
          "height": 437
        },
        "outputId": "ebcbd0dc-aadc-4eae-c984-844bea6eaa3b"
      },
      "source": [
        "from sklearn.ensemble import RandomForestRegressor\n",
        "rfregressor = RandomForestRegressor(n_estimators = 10, random_state = 0)\n",
        "rfregressor.fit(X_train, y_train)\n",
        "y_pred_r = rfregressor.predict(X_test)\n",
        "np.set_printoptions(precision=2)\n",
        "print(np.concatenate((y_pred_r.reshape(len(y_pred_r),1), y_test.reshape(len(y_test),1)),1))"
      ],
      "execution_count": 31,
      "outputs": [
        {
          "output_type": "stream",
          "text": [
            "[[227300. 300000.]\n",
            " [249100. 240000.]\n",
            " [261500. 236000.]\n",
            " [254500. 240000.]\n",
            " [244200. 200000.]\n",
            " [239000. 240000.]\n",
            " [273600. 300000.]\n",
            " [266200. 218000.]\n",
            " [261500. 250000.]\n",
            " [285700. 340000.]\n",
            " [257000. 240000.]\n",
            " [261600. 250000.]\n",
            " [245600. 300000.]\n",
            " [246200. 300000.]\n",
            " [266100. 250000.]\n",
            " [262600. 240000.]\n",
            " [241600. 270000.]\n",
            " [257600. 204000.]\n",
            " [237300. 204000.]\n",
            " [247800. 268000.]\n",
            " [241500. 250000.]\n",
            " [270300. 300000.]\n",
            " [243000. 300000.]\n",
            " [268200. 278000.]\n",
            " [249600. 250000.]]\n"
          ],
          "name": "stdout"
        }
      ]
    },
    {
      "cell_type": "code",
      "metadata": {
        "execution": {
          "iopub.execute_input": "2020-08-08T12:30:46.338735Z",
          "iopub.status.busy": "2020-08-08T12:30:46.337550Z",
          "iopub.status.idle": "2020-08-08T12:30:46.343900Z",
          "shell.execute_reply": "2020-08-08T12:30:46.342997Z"
        },
        "id": "_TnCG65LnqOI",
        "papermill": {
          "duration": 0.041848,
          "end_time": "2020-08-08T12:30:46.344100",
          "exception": false,
          "start_time": "2020-08-08T12:30:46.302252",
          "status": "completed"
        },
        "tags": [],
        "colab_type": "code",
        "colab": {
          "base_uri": "https://localhost:8080/",
          "height": 67
        },
        "outputId": "d6fc630c-2059-42f6-ec55-6a56e9dcda7d"
      },
      "source": [
        "from sklearn.metrics import r2_score\n",
        "print(\"R2 score\")\n",
        "print(\"multiple regressor \" + str(r2_score(y_test, y_pred_m)))\n",
        "print(\"random forest \"+ str(r2_score(y_test, y_pred_r)))"
      ],
      "execution_count": 32,
      "outputs": [
        {
          "output_type": "stream",
          "text": [
            "R2 score\n",
            "multiple regressor -0.031591117030895344\n",
            "random forest 0.010640250790781791\n"
          ],
          "name": "stdout"
        }
      ]
    },
    {
      "cell_type": "code",
      "metadata": {
        "execution": {
          "iopub.execute_input": "2020-08-08T12:30:46.407873Z",
          "iopub.status.busy": "2020-08-08T12:30:46.406743Z",
          "iopub.status.idle": "2020-08-08T12:30:46.410642Z",
          "shell.execute_reply": "2020-08-08T12:30:46.411547Z"
        },
        "id": "0c1UT1X-wCC3",
        "papermill": {
          "duration": 0.040584,
          "end_time": "2020-08-08T12:30:46.411793",
          "exception": false,
          "start_time": "2020-08-08T12:30:46.371209",
          "status": "completed"
        },
        "tags": [],
        "colab_type": "code",
        "colab": {
          "base_uri": "https://localhost:8080/",
          "height": 67
        },
        "outputId": "e049e858-4c94-429b-9b4f-aa95371ea5a6"
      },
      "source": [
        "from sklearn.metrics import r2_score, mean_absolute_error, mean_squared_error\n",
        "from math import sqrt\n",
        "print(\"Mean Absolute error\")\n",
        "MAE = mean_absolute_error(y_test, y_pred_m)\n",
        "print(\"Multiple linear regressor \"+str(MAE))\n",
        "MAE = mean_absolute_error(y_test, y_pred_r)\n",
        "print(\"Random forest regressor \"+ str(MAE))"
      ],
      "execution_count": 33,
      "outputs": [
        {
          "output_type": "stream",
          "text": [
            "Mean Absolute error\n",
            "Multiple linear regressor 30280.969416619148\n",
            "Random forest regressor 28952.0\n"
          ],
          "name": "stdout"
        }
      ]
    },
    {
      "cell_type": "markdown",
      "metadata": {
        "id": "soirA4ugKRTL",
        "papermill": {
          "duration": 0.025948,
          "end_time": "2020-08-08T12:30:46.464193",
          "exception": false,
          "start_time": "2020-08-08T12:30:46.438245",
          "status": "completed"
        },
        "tags": [],
        "colab_type": "text"
      },
      "source": [
        "# Getting the final regression equation with the values of the coefficients"
      ]
    },
    {
      "cell_type": "code",
      "metadata": {
        "execution": {
          "iopub.execute_input": "2020-08-08T12:30:46.524456Z",
          "iopub.status.busy": "2020-08-08T12:30:46.523452Z",
          "iopub.status.idle": "2020-08-08T12:30:46.527057Z",
          "shell.execute_reply": "2020-08-08T12:30:46.527644Z"
        },
        "id": "HtuCxTkwKVPa",
        "papermill": {
          "duration": 0.036604,
          "end_time": "2020-08-08T12:30:46.527823",
          "exception": false,
          "start_time": "2020-08-08T12:30:46.491219",
          "status": "completed"
        },
        "tags": [],
        "colab_type": "code",
        "colab": {
          "base_uri": "https://localhost:8080/",
          "height": 67
        },
        "outputId": "5c21349f-01c3-4660-b166-f85c3892b4bb"
      },
      "source": [
        "print(regressor.coef_)\n",
        "print(regressor.intercept_)"
      ],
      "execution_count": 34,
      "outputs": [
        {
          "output_type": "stream",
          "text": [
            "[   46.67    18.95   223.75  -581.15  2897.14  9696.97    74.4  -6046.06\n",
            "  -217.19]\n",
            "279589.9683746573\n"
          ],
          "name": "stdout"
        }
      ]
    },
    {
      "cell_type": "markdown",
      "metadata": {
        "id": "mMXYYf3IKcnk",
        "papermill": {
          "duration": 0.025956,
          "end_time": "2020-08-08T12:30:46.580052",
          "exception": false,
          "start_time": "2020-08-08T12:30:46.554096",
          "status": "completed"
        },
        "tags": [],
        "colab_type": "text"
      },
      "source": [
        "Therefore, the equation of our multiple linear regression model is:\n",
        "\n",
        "$$\\textrm{salary} = 5.21 \\times \\textrm{ssc_p} + 165 \\times \\textrm{hsc_p} - 636 \\times \\textrm{degree_p} + 2740 \\times \\textrm{degree_t} + 10200 \\times \\textrm{workex} + 108 \\times \\textrm{etest_p} - 5680 \\times \\textrm{specialisation} - 202 \\times \\textrm{mba_p} + 289872.4$$\n",
        "\n",
        "**Important Note:** To get these coefficients we called the \"coef_\" and \"intercept_\" attributes from our regressor object. Attributes in Python are different than methods and usually return a simple value or an array of values."
      ]
    }
  ]
}